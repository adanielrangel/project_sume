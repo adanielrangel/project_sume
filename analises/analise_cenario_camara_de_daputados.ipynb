{
 "cells": [
  {
   "cell_type": "markdown",
   "id": "71766b46",
   "metadata": {},
   "source": [
    "# Análise de cenário dos partidos politico na câmara de deputados \n",
    "\n",
    "Essa análise tem como objetivo entender como está o cenário dos partidos políticos na câmara dos deputados do Brasil. \n",
    "\n",
    "Pontos de análise:\n",
    "\n",
    "1) Partidos mais relevantes na câmara;\n",
    "\n",
    "2) Vieses ideológicos dos partidos; \n",
    "\n",
    "3) Influencia do Centrão na câmara dos deputados; \n",
    "\n",
    "4) Definição de uma regra para eliminação de partidos; \n",
    "\n",
    "5) Impacto dessa regra no dataset. \n",
    "\n"
   ]
  },
  {
   "cell_type": "code",
   "execution_count": 1,
   "id": "fb001af7",
   "metadata": {},
   "outputs": [
    {
     "name": "stderr",
     "output_type": "stream",
     "text": [
      "/home/andre/anaconda3/lib/python3.8/site-packages/requests/__init__.py:89: RequestsDependencyWarning: urllib3 (1.26.6) or chardet (3.0.4) doesn't match a supported version!\n",
      "  warnings.warn(\"urllib3 ({}) or chardet ({}) doesn't match a supported \"\n"
     ]
    }
   ],
   "source": [
    "#importação da bibliotecas \n",
    "\n",
    "\n",
    "import project_utils as pu \n",
    "import pandas as pd \n",
    "import seaborn as sns\n",
    "import datetime as dt \n",
    "\n",
    "engine = pu.get_conection()"
   ]
  },
  {
   "cell_type": "code",
   "execution_count": 2,
   "id": "839a863e",
   "metadata": {},
   "outputs": [],
   "source": [
    "#rodando query \n",
    "query = 'select * from silver.deputados'\n",
    "df = pd.read_sql(query,con=engine)"
   ]
  },
  {
   "cell_type": "markdown",
   "id": "0a230bc3",
   "metadata": {},
   "source": [
    "## Tratamento de dados "
   ]
  },
  {
   "cell_type": "code",
   "execution_count": 3,
   "id": "d7d647ab",
   "metadata": {},
   "outputs": [],
   "source": [
    "#agrupando o df em dt de inicio da legislatura , partido e numero de deputados \n",
    "df_partidos = df[['dt_inicio_legslatuara','siglaPartido','id']]\n",
    "df_partidos = df_partidos.groupby(['dt_inicio_legslatuara','siglaPartido']).count()\n",
    "df_partidos = df_partidos.reset_index()\n",
    "df_partidos = df_partidos.rename(columns={'siglaPartido':'siglaPartido', 'dt_inicio_legslatuara':'dt_inicio_legslatuara', 'id':'n_deputados'})"
   ]
  },
  {
   "cell_type": "code",
   "execution_count": 4,
   "id": "aa28210e",
   "metadata": {},
   "outputs": [
    {
     "data": {
      "text/html": [
       "<div>\n",
       "<style scoped>\n",
       "    .dataframe tbody tr th:only-of-type {\n",
       "        vertical-align: middle;\n",
       "    }\n",
       "\n",
       "    .dataframe tbody tr th {\n",
       "        vertical-align: top;\n",
       "    }\n",
       "\n",
       "    .dataframe thead th {\n",
       "        text-align: right;\n",
       "    }\n",
       "</style>\n",
       "<table border=\"1\" class=\"dataframe\">\n",
       "  <thead>\n",
       "    <tr style=\"text-align: right;\">\n",
       "      <th></th>\n",
       "      <th>dt_inicio_legslatuara</th>\n",
       "      <th>siglaPartido</th>\n",
       "      <th>n_deputados</th>\n",
       "    </tr>\n",
       "  </thead>\n",
       "  <tbody>\n",
       "    <tr>\n",
       "      <th>0</th>\n",
       "      <td>1885-02-11</td>\n",
       "      <td>PL*</td>\n",
       "      <td>1</td>\n",
       "    </tr>\n",
       "    <tr>\n",
       "      <th>1</th>\n",
       "      <td>1891-06-10</td>\n",
       "      <td>PNI</td>\n",
       "      <td>1</td>\n",
       "    </tr>\n",
       "    <tr>\n",
       "      <th>2</th>\n",
       "      <td>1894-04-18</td>\n",
       "      <td>PNI</td>\n",
       "      <td>1</td>\n",
       "    </tr>\n",
       "    <tr>\n",
       "      <th>3</th>\n",
       "      <td>1897-04-18</td>\n",
       "      <td>PNI</td>\n",
       "      <td>1</td>\n",
       "    </tr>\n",
       "    <tr>\n",
       "      <th>4</th>\n",
       "      <td>1897-04-18</td>\n",
       "      <td>PRM</td>\n",
       "      <td>3</td>\n",
       "    </tr>\n",
       "  </tbody>\n",
       "</table>\n",
       "</div>"
      ],
      "text/plain": [
       "  dt_inicio_legslatuara siglaPartido  n_deputados\n",
       "0            1885-02-11          PL*            1\n",
       "1            1891-06-10          PNI            1\n",
       "2            1894-04-18          PNI            1\n",
       "3            1897-04-18          PNI            1\n",
       "4            1897-04-18          PRM            3"
      ]
     },
     "execution_count": 4,
     "metadata": {},
     "output_type": "execute_result"
    }
   ],
   "source": [
    "df_partidos.head()"
   ]
  },
  {
   "cell_type": "code",
   "execution_count": 5,
   "id": "d60f0b85",
   "metadata": {},
   "outputs": [],
   "source": [
    "#criação do rank dos partido por legislatura \n",
    "df_partidos['rn'] = df_partidos.sort_values(['n_deputados'],ascending=[False])\\\n",
    "    .groupby(['dt_inicio_legslatuara']).cumcount() +1\n"
   ]
  },
  {
   "cell_type": "code",
   "execution_count": 6,
   "id": "484cc48c",
   "metadata": {},
   "outputs": [],
   "source": [
    "# criando um dataset de suporte para entender a evolução dos partidos e calcular a representação dos partidos em suas respectivas legislaturas \n",
    "df_tot_lesgislaturas = df[['dt_inicio_legslatuara','id']]\n",
    "df_tot_lesgislaturas = df_tot_lesgislaturas.groupby(['dt_inicio_legslatuara']).count()\n",
    "df_tot_lesgislaturas = df_tot_lesgislaturas.reset_index()\n",
    "df_tot_lesgislaturas = df_tot_lesgislaturas.rename(columns={'dt_inicio_legslatuara':'dt_inicio_legslatuara', 'id':'n_deputados'})"
   ]
  },
  {
   "cell_type": "code",
   "execution_count": 7,
   "id": "754a54d8",
   "metadata": {},
   "outputs": [
    {
     "data": {
      "text/html": [
       "<div>\n",
       "<style scoped>\n",
       "    .dataframe tbody tr th:only-of-type {\n",
       "        vertical-align: middle;\n",
       "    }\n",
       "\n",
       "    .dataframe tbody tr th {\n",
       "        vertical-align: top;\n",
       "    }\n",
       "\n",
       "    .dataframe thead th {\n",
       "        text-align: right;\n",
       "    }\n",
       "</style>\n",
       "<table border=\"1\" class=\"dataframe\">\n",
       "  <thead>\n",
       "    <tr style=\"text-align: right;\">\n",
       "      <th></th>\n",
       "      <th>dt_inicio_legslatuara</th>\n",
       "      <th>n_deputados</th>\n",
       "    </tr>\n",
       "  </thead>\n",
       "  <tbody>\n",
       "    <tr>\n",
       "      <th>0</th>\n",
       "      <td>1826-04-29</td>\n",
       "      <td>107</td>\n",
       "    </tr>\n",
       "    <tr>\n",
       "      <th>1</th>\n",
       "      <td>1830-04-25</td>\n",
       "      <td>121</td>\n",
       "    </tr>\n",
       "    <tr>\n",
       "      <th>2</th>\n",
       "      <td>1834-04-25</td>\n",
       "      <td>124</td>\n",
       "    </tr>\n",
       "    <tr>\n",
       "      <th>3</th>\n",
       "      <td>1838-04-25</td>\n",
       "      <td>121</td>\n",
       "    </tr>\n",
       "    <tr>\n",
       "      <th>4</th>\n",
       "      <td>1842-04-25</td>\n",
       "      <td>121</td>\n",
       "    </tr>\n",
       "  </tbody>\n",
       "</table>\n",
       "</div>"
      ],
      "text/plain": [
       "  dt_inicio_legslatuara  n_deputados\n",
       "0            1826-04-29          107\n",
       "1            1830-04-25          121\n",
       "2            1834-04-25          124\n",
       "3            1838-04-25          121\n",
       "4            1842-04-25          121"
      ]
     },
     "execution_count": 7,
     "metadata": {},
     "output_type": "execute_result"
    }
   ],
   "source": [
    "df_tot_lesgislaturas.head()"
   ]
  },
  {
   "cell_type": "code",
   "execution_count": 8,
   "id": "b589619b",
   "metadata": {},
   "outputs": [],
   "source": [
    "# junção dos datacets e criação do percentual de cada partido em cada legislatura \n",
    "df_partidos = df_partidos.merge(df_tot_lesgislaturas,left_on='dt_inicio_legslatuara',right_on='dt_inicio_legslatuara')\n",
    "df_partidos = df_partidos.rename(\n",
    "    columns={'dt_inicio_legslatuara':'dt_inicio_legslatuara', 'siglaPartido':'siglaPartido','n_deputados_x':'n_deputados_partido'\n",
    "            ,'rn':'posicao_do_partido','n_deputados_y':'n_deputados_legilatura'}\n",
    ")\n",
    "df_partidos['percent_legislatura'] = (df_partidos.n_deputados_partido/df_partidos.n_deputados_legilatura)*100"
   ]
  },
  {
   "cell_type": "code",
   "execution_count": 9,
   "id": "a680c178",
   "metadata": {},
   "outputs": [
    {
     "data": {
      "text/html": [
       "<div>\n",
       "<style scoped>\n",
       "    .dataframe tbody tr th:only-of-type {\n",
       "        vertical-align: middle;\n",
       "    }\n",
       "\n",
       "    .dataframe tbody tr th {\n",
       "        vertical-align: top;\n",
       "    }\n",
       "\n",
       "    .dataframe thead th {\n",
       "        text-align: right;\n",
       "    }\n",
       "</style>\n",
       "<table border=\"1\" class=\"dataframe\">\n",
       "  <thead>\n",
       "    <tr style=\"text-align: right;\">\n",
       "      <th></th>\n",
       "      <th>dt_inicio_legslatuara</th>\n",
       "      <th>siglaPartido</th>\n",
       "      <th>n_deputados_partido</th>\n",
       "      <th>posicao_do_partido</th>\n",
       "      <th>n_deputados_legilatura</th>\n",
       "      <th>percent_legislatura</th>\n",
       "    </tr>\n",
       "  </thead>\n",
       "  <tbody>\n",
       "    <tr>\n",
       "      <th>0</th>\n",
       "      <td>1885-02-11</td>\n",
       "      <td>PL*</td>\n",
       "      <td>1</td>\n",
       "      <td>1</td>\n",
       "      <td>127</td>\n",
       "      <td>0.787402</td>\n",
       "    </tr>\n",
       "    <tr>\n",
       "      <th>1</th>\n",
       "      <td>1891-06-10</td>\n",
       "      <td>PNI</td>\n",
       "      <td>1</td>\n",
       "      <td>1</td>\n",
       "      <td>239</td>\n",
       "      <td>0.418410</td>\n",
       "    </tr>\n",
       "    <tr>\n",
       "      <th>2</th>\n",
       "      <td>1894-04-18</td>\n",
       "      <td>PNI</td>\n",
       "      <td>1</td>\n",
       "      <td>1</td>\n",
       "      <td>230</td>\n",
       "      <td>0.434783</td>\n",
       "    </tr>\n",
       "    <tr>\n",
       "      <th>3</th>\n",
       "      <td>1897-04-18</td>\n",
       "      <td>PNI</td>\n",
       "      <td>1</td>\n",
       "      <td>2</td>\n",
       "      <td>224</td>\n",
       "      <td>0.446429</td>\n",
       "    </tr>\n",
       "    <tr>\n",
       "      <th>4</th>\n",
       "      <td>1897-04-18</td>\n",
       "      <td>PRM</td>\n",
       "      <td>3</td>\n",
       "      <td>1</td>\n",
       "      <td>224</td>\n",
       "      <td>1.339286</td>\n",
       "    </tr>\n",
       "  </tbody>\n",
       "</table>\n",
       "</div>"
      ],
      "text/plain": [
       "  dt_inicio_legslatuara siglaPartido  n_deputados_partido  posicao_do_partido  \\\n",
       "0            1885-02-11          PL*                    1                   1   \n",
       "1            1891-06-10          PNI                    1                   1   \n",
       "2            1894-04-18          PNI                    1                   1   \n",
       "3            1897-04-18          PNI                    1                   2   \n",
       "4            1897-04-18          PRM                    3                   1   \n",
       "\n",
       "   n_deputados_legilatura  percent_legislatura  \n",
       "0                     127             0.787402  \n",
       "1                     239             0.418410  \n",
       "2                     230             0.434783  \n",
       "3                     224             0.446429  \n",
       "4                     224             1.339286  "
      ]
     },
     "execution_count": 9,
     "metadata": {},
     "output_type": "execute_result"
    }
   ],
   "source": [
    "df_partidos.head()"
   ]
  },
  {
   "cell_type": "code",
   "execution_count": 10,
   "id": "25aa2815",
   "metadata": {},
   "outputs": [
    {
     "data": {
      "text/html": [
       "<div>\n",
       "<style scoped>\n",
       "    .dataframe tbody tr th:only-of-type {\n",
       "        vertical-align: middle;\n",
       "    }\n",
       "\n",
       "    .dataframe tbody tr th {\n",
       "        vertical-align: top;\n",
       "    }\n",
       "\n",
       "    .dataframe thead th {\n",
       "        text-align: right;\n",
       "    }\n",
       "</style>\n",
       "<table border=\"1\" class=\"dataframe\">\n",
       "  <thead>\n",
       "    <tr style=\"text-align: right;\">\n",
       "      <th></th>\n",
       "      <th>dt_inicio_legslatuara</th>\n",
       "      <th>percent_legislatura</th>\n",
       "    </tr>\n",
       "  </thead>\n",
       "  <tbody>\n",
       "    <tr>\n",
       "      <th>0</th>\n",
       "      <td>1885-02-11</td>\n",
       "      <td>0.787402</td>\n",
       "    </tr>\n",
       "    <tr>\n",
       "      <th>1</th>\n",
       "      <td>1891-06-10</td>\n",
       "      <td>0.418410</td>\n",
       "    </tr>\n",
       "    <tr>\n",
       "      <th>2</th>\n",
       "      <td>1894-04-18</td>\n",
       "      <td>0.434783</td>\n",
       "    </tr>\n",
       "    <tr>\n",
       "      <th>3</th>\n",
       "      <td>1897-04-18</td>\n",
       "      <td>1.785714</td>\n",
       "    </tr>\n",
       "    <tr>\n",
       "      <th>4</th>\n",
       "      <td>1900-04-18</td>\n",
       "      <td>1.673640</td>\n",
       "    </tr>\n",
       "  </tbody>\n",
       "</table>\n",
       "</div>"
      ],
      "text/plain": [
       "  dt_inicio_legslatuara  percent_legislatura\n",
       "0            1885-02-11             0.787402\n",
       "1            1891-06-10             0.418410\n",
       "2            1894-04-18             0.434783\n",
       "3            1897-04-18             1.785714\n",
       "4            1900-04-18             1.673640"
      ]
     },
     "execution_count": 10,
     "metadata": {},
     "output_type": "execute_result"
    }
   ],
   "source": [
    "df_top_five = df_partidos[df_partidos['posicao_do_partido'] <= 5]\n",
    "df_top_five = df_top_five[['dt_inicio_legslatuara','percent_legislatura']].groupby(['dt_inicio_legslatuara']).sum()\n",
    "df_top_five = df_top_five.reset_index()\n",
    "df_top_five.head()"
   ]
  },
  {
   "cell_type": "code",
   "execution_count": 11,
   "id": "dc16b700",
   "metadata": {},
   "outputs": [],
   "source": [
    "# craição de uma flag apontando se o partido é do centrão \n",
    "# definição segundo o site politisice e g1 \n",
    "# https://bit.ly/2UEpNEp #https://glo.bo/3kgZCwk\n",
    "centrao = ['PP','REPUBLICANOS','SOLIDARIEDADE','PTB','PSD','MDB','DEM','PROS','PSC','AVANTE','PATRIOTA']\n",
    "df_partidos['flag_centrao'] = df_partidos.siglaPartido.apply(lambda x: 'centrao' if x in centrao else None)\n",
    "df['flag_centrao'] = df.siglaPartido.apply(lambda x: 'centrao' if x in centrao else None)"
   ]
  },
  {
   "cell_type": "markdown",
   "id": "54b5ee81",
   "metadata": {},
   "source": [
    "## Análises "
   ]
  },
  {
   "cell_type": "markdown",
   "id": "d46ede8c",
   "metadata": {},
   "source": [
    "## Contexto \n",
    "\n",
    "Antes de entrar nas perguntas levantadas anteriormente, precisamos entender qual é o contexto geral da câmara dos deputados. "
   ]
  },
  {
   "cell_type": "code",
   "execution_count": 12,
   "id": "6cfa5d33",
   "metadata": {},
   "outputs": [
    {
     "data": {
      "text/plain": [
       "Text(0.5, 1.0, 'Evolução do numero de deputados nos anos')"
      ]
     },
     "execution_count": 12,
     "metadata": {},
     "output_type": "execute_result"
    },
    {
     "data": {
      "image/png": "[encoded data removed]",
      "text/plain": [
       "<Figure size 432x288 with 1 Axes>"
      ]
     },
     "metadata": {
      "needs_background": "light"
     },
     "output_type": "display_data"
    }
   ],
   "source": [
    "ax = sns.lineplot(data= df_tot_lesgislaturas,x='dt_inicio_legslatuara',y = 'n_deputados')\n",
    "ax.set_title('Evolução do numero de deputados nos anos')"
   ]
  },
  {
   "cell_type": "markdown",
   "id": "e7dac386",
   "metadata": {},
   "source": [
    "Olhando a evolução do número de deputados por legislatura vemos uma escalada muito grande saindo por volta de \n",
    "250 deputados no começo do século passado para mais de 600 na legislatura de 2015, seguindo para uma pequena queda na legislatura atual. \n",
    "\n",
    "Outro ponto interessante é a queda abrupta seguida de uma retomada abrupta, durante os anos 60-70. Isso é um impacto claro da ditadura militar que estava ocorrendo no pais. \n"
   ]
  },
  {
   "cell_type": "code",
   "execution_count": 13,
   "id": "a2a0fee0",
   "metadata": {},
   "outputs": [
    {
     "data": {
      "text/plain": [
       "Text(0.5, 1.0, 'Evolução do numero de partidos ao longo dos anos')"
      ]
     },
     "execution_count": 13,
     "metadata": {},
     "output_type": "execute_result"
    },
    {
     "data": {
      "image/png": "[encoded data removed]",
      "text/plain": [
       "<Figure size 432x288 with 1 Axes>"
      ]
     },
     "metadata": {
      "needs_background": "light"
     },
     "output_type": "display_data"
    }
   ],
   "source": [
    "ax = sns.lineplot(data = df_partidos.groupby('dt_inicio_legslatuara').siglaPartido.nunique().reset_index()\n",
    "             ,x = 'dt_inicio_legslatuara',y = 'siglaPartido')\n",
    "ax.set_title('Evolução do numero de partidos ao longo dos anos')"
   ]
  },
  {
   "cell_type": "markdown",
   "id": "98e00af0",
   "metadata": {},
   "source": [
    "Se olharmos para o volume de partidos vemos o mesmo efeito, uma escalada constante do número de partidos, com exceção de alguns pontos nos anos 40 e da ditadura militar que houve no país. \n",
    "\n",
    "Nessa visão, o período da ditadura fica mais evidente, principalmente devido à retomada no número de deputados durante a ditadura, mas não do número de partidos que sobe muito mais lentamente. "
   ]
  },
  {
   "cell_type": "markdown",
   "id": "f45f57c5",
   "metadata": {},
   "source": [
    "## Partidos mais relevantes da câmara dos deputados "
   ]
  },
  {
   "cell_type": "markdown",
   "id": "2b65761c",
   "metadata": {},
   "source": [
    "Antes de olhar diretamente para os partidos, vamos entender como o poder esta centralisado nos principais partidos. "
   ]
  },
  {
   "cell_type": "code",
   "execution_count": 14,
   "id": "004102ab",
   "metadata": {},
   "outputs": [
    {
     "data": {
      "text/plain": [
       "Text(0.5, 1.0, 'Representatividade do principal partido da câmara dos deputados ao longo dos anos')"
      ]
     },
     "execution_count": 14,
     "metadata": {},
     "output_type": "execute_result"
    },
    {
     "data": {
      "image/png": "[encoded data removed]",
      "text/plain": [
       "<Figure size 432x288 with 1 Axes>"
      ]
     },
     "metadata": {
      "needs_background": "light"
     },
     "output_type": "display_data"
    }
   ],
   "source": [
    "ax =sns.lineplot(data=df_partidos[df_partidos['posicao_do_partido']==1]\n",
    "                 ,x='dt_inicio_legslatuara',y='percent_legislatura')\n",
    "ax.set_title('Representatividade do principal partido da câmara dos deputados ao longo dos anos')"
   ]
  },
  {
   "cell_type": "markdown",
   "id": "ab2b82f7",
   "metadata": {},
   "source": [
    "Aqui vemos um cenário mais proeminente no impacto da ditadura, onde um só partido controlava 70% da cãmara dos deputados. \n",
    "\n",
    "Já no mandato atual vemos um cenário oposto, onde o principal partido tem no máximo 10% da câmara dos deputados, o que gera uma maior diluição do poder, e uma abertura para que estruturas suprapartidárias consigam agregar esses votos para aprovar leis. "
   ]
  },
  {
   "cell_type": "code",
   "execution_count": 15,
   "id": "ff748a1d",
   "metadata": {},
   "outputs": [
    {
     "data": {
      "text/plain": [
       "Text(0.5, 1.0, 'Representatividade dos top 5 partidos da câmara dos deputados ao longo dos anos')"
      ]
     },
     "execution_count": 15,
     "metadata": {},
     "output_type": "execute_result"
    },
    {
     "data": {
      "image/png": "[encoded data removed]",
      "text/plain": [
       "<Figure size 432x288 with 1 Axes>"
      ]
     },
     "metadata": {
      "needs_background": "light"
     },
     "output_type": "display_data"
    }
   ],
   "source": [
    "ax =sns.lineplot(data=df_top_five\n",
    "                 ,x='dt_inicio_legslatuara',y='percent_legislatura')\n",
    "ax.set_title('Representatividade dos top 5 partidos da câmara dos deputados ao longo dos anos')"
   ]
  },
  {
   "cell_type": "markdown",
   "id": "8e31b00f",
   "metadata": {},
   "source": [
    "A mesma análise se mostra verdadeira nos top 5 partidos. Há uma queda da representatividade dos principais partidos brasileiros, junto com um aumento no número de partidos representados na câmara dos deputados. "
   ]
  },
  {
   "cell_type": "code",
   "execution_count": 16,
   "id": "b84d6c72",
   "metadata": {},
   "outputs": [
    {
     "data": {
      "text/plain": [
       "Text(0.5, 1.0, 'Representatividade dos partidos na legislatura de 2019')"
      ]
     },
     "execution_count": 16,
     "metadata": {},
     "output_type": "execute_result"
    },
    {
     "data": {
      "image/png": "[encoded data removed]",
      "text/plain": [
       "<Figure size 432x288 with 1 Axes>"
      ]
     },
     "metadata": {
      "needs_background": "light"
     },
     "output_type": "display_data"
    }
   ],
   "source": [
    "ax = sns.barplot(data=df_partidos[df_partidos['dt_inicio_legslatuara']==dt.date(2019,2,1)].sort_values('percent_legislatura',ascending=False),\n",
    "                 x='siglaPartido',y='percent_legislatura',palette='Blues_r')\n",
    "ax.tick_params(axis='x', rotation=90)\n",
    "ax.set_title('Representatividade dos partidos na legislatura de 2019')"
   ]
  },
  {
   "cell_type": "markdown",
   "id": "6d400482",
   "metadata": {},
   "source": [
    "Quando visualizamos a legislatura atual, temos um exemplo mais claro do que foi discutido anteriormente.\n",
    "\n",
    "Há 14 partidos políticos cujo total de seus deputados não representam mais que 4,5% do total na câmara. \n",
    "\n",
    "Além disso, existe uma clara quebra entre os partidos com mais de 4.5% na câmara e aqueles com percentuais menores. "
   ]
  },
  {
   "cell_type": "code",
   "execution_count": 17,
   "id": "92bfa814",
   "metadata": {},
   "outputs": [
    {
     "data": {
      "text/plain": [
       "Text(0.5, 1.0, 'Representatividade dos partidos na legislatura de 2015')"
      ]
     },
     "execution_count": 17,
     "metadata": {},
     "output_type": "execute_result"
    },
    {
     "data": {
      "image/png": "[encoded data removed]",
      "text/plain": [
       "<Figure size 432x288 with 1 Axes>"
      ]
     },
     "metadata": {
      "needs_background": "light"
     },
     "output_type": "display_data"
    }
   ],
   "source": [
    "ax = sns.barplot(data=df_partidos[df_partidos['dt_inicio_legslatuara']==dt.date(2015,2,1)].sort_values('percent_legislatura',ascending=False),\n",
    "                 x='siglaPartido',y='percent_legislatura',palette='Blues_r')\n",
    "ax.tick_params(axis='x', rotation=90)\n",
    "ax.set_title('Representatividade dos partidos na legislatura de 2015')"
   ]
  },
  {
   "cell_type": "markdown",
   "id": "f2e6e03d",
   "metadata": {},
   "source": [
    "Quando olhamos para o mandato anterior, vemos algumas mudanças interessantes.\n",
    "\n",
    "O MDB apresenta uma queda significativa saindo de 12% para 7% e indo do principal partido para 7º.\n",
    "\n",
    "Vemos uma ascensão do PSL e PL, principalmente do PSL que tinha por volta de 2% e em uma eleição foi para 8%.\n",
    "\n",
    "Temos também uma diluição maior dos partidos políticos, principalmente quando olhamos para partidos com mais de 4,5% dos deputados, sendo que em 2015 tinhamos 7 partidos acima dessa barreira, já em 2019 temos 11 partidos. "
   ]
  },
  {
   "cell_type": "markdown",
   "id": "5d744237",
   "metadata": {},
   "source": [
    "# Vieses ideológicos dos partidos"
   ]
  },
  {
   "cell_type": "code",
   "execution_count": 18,
   "id": "80da99d1",
   "metadata": {},
   "outputs": [
    {
     "data": {
      "text/plain": [
       "Text(0.5, 1.0, 'Alinhamento político da legislatura atual na câmara dos deputados ')"
      ]
     },
     "execution_count": 18,
     "metadata": {},
     "output_type": "execute_result"
    },
    {
     "data": {
      "image/png": "[encoded data removed]",
      "text/plain": [
       "<Figure size 432x288 with 1 Axes>"
      ]
     },
     "metadata": {
      "needs_background": "light"
     },
     "output_type": "display_data"
    }
   ],
   "source": [
    "ax = sns.countplot(data = df[df['dt_inicio_legslatuara']==dt.date(2019,2,1)]\n",
    "                   ,x= 'alinhamento_pulitoco',palette=['#0303fc','#fce703','#f0020e'])\n",
    "ax.set_title('Alinhamento político da legislatura atual na câmara dos deputados ')"
   ]
  },
  {
   "cell_type": "markdown",
   "id": "4186acfa",
   "metadata": {},
   "source": [
    "Quando olhamos para o viés ideológico na câmera dos deputados, vemos um ambiente que tende bastante para a direita, provavelmente um efeito da eleição do Bolsonaro, e do crescimento do PSL e do PL. "
   ]
  },
  {
   "cell_type": "markdown",
   "id": "4579ab15",
   "metadata": {},
   "source": [
    "## Influência do Centrão na câmara dos deputados"
   ]
  },
  {
   "cell_type": "code",
   "execution_count": 19,
   "id": "c13ca668",
   "metadata": {
    "scrolled": true
   },
   "outputs": [],
   "source": [
    "df_partidos_centrao = df_partidos[df_partidos['flag_centrao']=='centrao']\n",
    "df_partidos_centrao = df_partidos_centrao[['dt_inicio_legslatuara','percent_legislatura']]\n",
    "df_partidos_centrao = df_partidos_centrao.groupby(by='dt_inicio_legslatuara').sum().reset_index()"
   ]
  },
  {
   "cell_type": "code",
   "execution_count": 20,
   "id": "d6ca2424",
   "metadata": {},
   "outputs": [
    {
     "data": {
      "text/plain": [
       "Text(0.5, 1.0, 'Representatividade do Centrão ao longo dos anos')"
      ]
     },
     "execution_count": 20,
     "metadata": {},
     "output_type": "execute_result"
    },
    {
     "data": {
      "image/png": "[encoded data removed]",
      "text/plain": [
       "<Figure size 432x288 with 1 Axes>"
      ]
     },
     "metadata": {
      "needs_background": "light"
     },
     "output_type": "display_data"
    }
   ],
   "source": [
    "# vemos uma escalada na representatividade do centrão apos a sua criação durante a acembreia constituinte de 19877\n",
    "# tendo o seu apicie no segundo mandato da dilma.\n",
    "ax = sns.barplot(data=df_partidos_centrao[df_partidos_centrao['dt_inicio_legslatuara']>= dt.date(1987,1,1)],\n",
    "            x='dt_inicio_legslatuara',y='percent_legislatura',palette='Blues')\n",
    "ax.tick_params(axis='x', rotation=90)\n",
    "ax.set_title('Representatividade do Centrão ao longo dos anos')"
   ]
  },
  {
   "cell_type": "markdown",
   "id": "f3d198f7",
   "metadata": {},
   "source": [
    "Ao olharmos para o Centrão, vemos um aumento da sua representatividade, ao mesmo tempo em que se percebe uma falta de repesentatividade dos principais partidos. Observamos um crescimento acentuado da representação justamente no segundo mandato de Dilma e uma estabilidade no mandato de Bolsonaro."
   ]
  },
  {
   "cell_type": "markdown",
   "id": "050c08df",
   "metadata": {},
   "source": [
    "# Insights \n",
    "\n",
    "### O poder esta diluído \n",
    "Notamos um crecimento do número de partidos na câmara dos deputados, ao mesmo tempo há uma queda da representatividade dos principais partidos. Isso pode ser problemático uma vez que há mais frentes de \"negociação\" para que um governo consiga uma maioria na câmara. O que por outro lado também pode ser positivo pois aumentam a representatividade de um maior número de grupos ideológicos. \n",
    "\n",
    "### O Centrão e a direita \n",
    "Considerando o cenário a cima, percebemos a importância de estruturas suprapartidárias. Hoje vemos uma câmara majoritariamente de direita, e com uma representatividede muito grande do centrão, justamente cobrindo essa falta de poder dos grandes partidos. "
   ]
  }
 ],
 "metadata": {
  "kernelspec": {
   "display_name": "Python 3",
   "language": "python",
   "name": "python3"
  },
  "language_info": {
   "codemirror_mode": {
    "name": "ipython",
    "version": 3
   },
   "file_extension": ".py",
   "mimetype": "text/x-python",
   "name": "python",
   "nbconvert_exporter": "python",
   "pygments_lexer": "ipython3",
   "version": "3.8.8"
  }
 },
 "nbformat": 4,
 "nbformat_minor": 5
}
