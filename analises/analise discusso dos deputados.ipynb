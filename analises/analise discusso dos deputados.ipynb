{
 "cells": [
  {
   "cell_type": "markdown",
   "id": "dafbc122",
   "metadata": {},
   "source": [
    "# análise de discursos dos deputados na legislatura de 2019\n",
    "\n",
    "## Obj : \n",
    "\n",
    "Essa analise tem como objetivo entender mais sobre os temas abordados pelos deputados, tanto nas keywords utilizadas pelos deputados quanto na transcrição dos discursos. \n",
    "\n",
    "### perguntas a serem respondidas:\n",
    "\n",
    "1) quais são os principais temas abordados nessa legislatura? \n",
    "\n",
    "2) quais são os deputados mais \"prolixos\" (que faz mais discursos) ?\n",
    "\n",
    "3) quais partidos estão tendo mais oportunidades de discursar? \n",
    "\n",
    "4) o partido como um todo discursa ou só alguns parlamentares controlam esse poder? \n"
   ]
  },
  {
   "cell_type": "markdown",
   "id": "08ad7226",
   "metadata": {},
   "source": [
    "# import das bibliotecas e setando o DF "
   ]
  },
  {
   "cell_type": "code",
   "execution_count": 1,
   "id": "51adea6d",
   "metadata": {},
   "outputs": [],
   "source": [
    "%load_ext autoreload\n",
    "%autoreload 2\n",
    "%matplotlib inline\n",
    "\n",
    "from src import project_utils as pu \n",
    "import pandas as pd \n",
    "import seaborn as sns\n",
    "import matplotlib.pyplot as plt"
   ]
  },
  {
   "cell_type": "code",
   "execution_count": 2,
   "id": "f7bf8435",
   "metadata": {},
   "outputs": [],
   "source": [
    "con = pu.get_conection()"
   ]
  },
  {
   "cell_type": "code",
   "execution_count": 3,
   "id": "70eb43ed",
   "metadata": {},
   "outputs": [],
   "source": [
    "q=\"\"\"select id_deputado,dis.\"dataHoraInicio\",\"tipoDiscurso\",keywords,transcricao, \n",
    "d.nome,d.\"siglaPartido\",d.alinhamento_pulitoco,d.\"siglaUf\"\n",
    "from deputados.discurssos as dis\n",
    "left join \n",
    "(\n",
    "select id,nome,\"siglaPartido\",alinhamento_pulitoco,\"siglaUf\" \n",
    "from silver.deputados\n",
    "where dt_inicio_legslatuara = '2019-02-01' ) \n",
    "as d on d.id = dis.id_deputado\n",
    "\"\"\""
   ]
  },
  {
   "cell_type": "code",
   "execution_count": 4,
   "id": "cbc0f00b",
   "metadata": {},
   "outputs": [
    {
     "data": {
      "text/html": [
       "<div>\n",
       "<style scoped>\n",
       "    .dataframe tbody tr th:only-of-type {\n",
       "        vertical-align: middle;\n",
       "    }\n",
       "\n",
       "    .dataframe tbody tr th {\n",
       "        vertical-align: top;\n",
       "    }\n",
       "\n",
       "    .dataframe thead th {\n",
       "        text-align: right;\n",
       "    }\n",
       "</style>\n",
       "<table border=\"1\" class=\"dataframe\">\n",
       "  <thead>\n",
       "    <tr style=\"text-align: right;\">\n",
       "      <th></th>\n",
       "      <th>id_deputado</th>\n",
       "      <th>dataHoraInicio</th>\n",
       "      <th>tipoDiscurso</th>\n",
       "      <th>keywords</th>\n",
       "      <th>transcricao</th>\n",
       "      <th>nome</th>\n",
       "      <th>siglaPartido</th>\n",
       "      <th>alinhamento_pulitoco</th>\n",
       "      <th>siglaUf</th>\n",
       "    </tr>\n",
       "  </thead>\n",
       "  <tbody>\n",
       "    <tr>\n",
       "      <th>0</th>\n",
       "      <td>204361</td>\n",
       "      <td>2019-04-04 15:12:00</td>\n",
       "      <td>PELA ORDEM</td>\n",
       "      <td>MPV 868/2018, MEDIDA PROVISORIA, ALTERAÇÃO, MA...</td>\n",
       "      <td>O SR. CARLOS CHIODINI (Bloco/MDB - SC. Pela or...</td>\n",
       "      <td>Carlos Chiodini</td>\n",
       "      <td>MDB</td>\n",
       "      <td>None</td>\n",
       "      <td>SC</td>\n",
       "    </tr>\n",
       "    <tr>\n",
       "      <th>1</th>\n",
       "      <td>204361</td>\n",
       "      <td>2020-05-20 20:12:00</td>\n",
       "      <td>PELA ORDEM</td>\n",
       "      <td>PL 2294/2020, PROJETO DE LEI ORDINÁRIA, FLEXIB...</td>\n",
       "      <td>O SR. CARLOS CHIODINI (Bloco/MDB - SC. Pela or...</td>\n",
       "      <td>Carlos Chiodini</td>\n",
       "      <td>MDB</td>\n",
       "      <td>None</td>\n",
       "      <td>SC</td>\n",
       "    </tr>\n",
       "    <tr>\n",
       "      <th>2</th>\n",
       "      <td>204361</td>\n",
       "      <td>2019-06-26 16:32:00</td>\n",
       "      <td>PELA ORDEM</td>\n",
       "      <td>IVAN NAATZ, DEPUTADO ESTADUAL, SANTA CATARINA,...</td>\n",
       "      <td>O SR. CARLOS CHIODINI (Bloco/MDB - SC. Pela or...</td>\n",
       "      <td>Carlos Chiodini</td>\n",
       "      <td>MDB</td>\n",
       "      <td>None</td>\n",
       "      <td>SC</td>\n",
       "    </tr>\n",
       "    <tr>\n",
       "      <th>3</th>\n",
       "      <td>204361</td>\n",
       "      <td>2020-05-21 19:16:00</td>\n",
       "      <td>DISCUSSÃO</td>\n",
       "      <td>DISCUSSÃO, PL 2294/2020, PROJETO DE LEI ORDINÁ...</td>\n",
       "      <td>O SR. CARLOS CHIODINI (Bloco/MDB - SC. Sem rev...</td>\n",
       "      <td>Carlos Chiodini</td>\n",
       "      <td>MDB</td>\n",
       "      <td>None</td>\n",
       "      <td>SC</td>\n",
       "    </tr>\n",
       "    <tr>\n",
       "      <th>4</th>\n",
       "      <td>178908</td>\n",
       "      <td>2019-02-13 18:28:00</td>\n",
       "      <td>PELA ORDEM</td>\n",
       "      <td>REFORMA PREVIDENCIÁRIA, FAVORÁVEL.</td>\n",
       "      <td>O SR. DELEGADO ÉDER MAURO (Bloco/PSD - PA. Pel...</td>\n",
       "      <td>Delegado Éder Mauro</td>\n",
       "      <td>PSD</td>\n",
       "      <td>direita</td>\n",
       "      <td>PA</td>\n",
       "    </tr>\n",
       "  </tbody>\n",
       "</table>\n",
       "</div>"
      ],
      "text/plain": [
       "   id_deputado      dataHoraInicio tipoDiscurso  \\\n",
       "0       204361 2019-04-04 15:12:00   PELA ORDEM   \n",
       "1       204361 2020-05-20 20:12:00   PELA ORDEM   \n",
       "2       204361 2019-06-26 16:32:00   PELA ORDEM   \n",
       "3       204361 2020-05-21 19:16:00    DISCUSSÃO   \n",
       "4       178908 2019-02-13 18:28:00   PELA ORDEM   \n",
       "\n",
       "                                            keywords  \\\n",
       "0  MPV 868/2018, MEDIDA PROVISORIA, ALTERAÇÃO, MA...   \n",
       "1  PL 2294/2020, PROJETO DE LEI ORDINÁRIA, FLEXIB...   \n",
       "2  IVAN NAATZ, DEPUTADO ESTADUAL, SANTA CATARINA,...   \n",
       "3  DISCUSSÃO, PL 2294/2020, PROJETO DE LEI ORDINÁ...   \n",
       "4                 REFORMA PREVIDENCIÁRIA, FAVORÁVEL.   \n",
       "\n",
       "                                         transcricao                 nome  \\\n",
       "0  O SR. CARLOS CHIODINI (Bloco/MDB - SC. Pela or...      Carlos Chiodini   \n",
       "1  O SR. CARLOS CHIODINI (Bloco/MDB - SC. Pela or...      Carlos Chiodini   \n",
       "2  O SR. CARLOS CHIODINI (Bloco/MDB - SC. Pela or...      Carlos Chiodini   \n",
       "3  O SR. CARLOS CHIODINI (Bloco/MDB - SC. Sem rev...      Carlos Chiodini   \n",
       "4  O SR. DELEGADO ÉDER MAURO (Bloco/PSD - PA. Pel...  Delegado Éder Mauro   \n",
       "\n",
       "  siglaPartido alinhamento_pulitoco siglaUf  \n",
       "0          MDB                 None      SC  \n",
       "1          MDB                 None      SC  \n",
       "2          MDB                 None      SC  \n",
       "3          MDB                 None      SC  \n",
       "4          PSD              direita      PA  "
      ]
     },
     "execution_count": 4,
     "metadata": {},
     "output_type": "execute_result"
    }
   ],
   "source": [
    "df = pd.read_sql(q,con)\n",
    "df.head()"
   ]
  },
  {
   "cell_type": "code",
   "execution_count": 5,
   "id": "f06d826c",
   "metadata": {},
   "outputs": [
    {
     "data": {
      "text/plain": [
       "6924"
      ]
     },
     "execution_count": 5,
     "metadata": {},
     "output_type": "execute_result"
    }
   ],
   "source": [
    "len(df)"
   ]
  },
  {
   "cell_type": "code",
   "execution_count": 6,
   "id": "456ac952",
   "metadata": {},
   "outputs": [
    {
     "data": {
      "image/png": "[encoded data removed]",
      "text/plain": [
       "<Figure size 1080x576 with 1 Axes>"
      ]
     },
     "metadata": {
      "needs_background": "light"
     },
     "output_type": "display_data"
    }
   ],
   "source": [
    "plt.figure(figsize=(15,8))\n",
    "plt.xticks(rotation=90)\n",
    "ax = sns.countplot(data=df,x='tipoDiscurso',order=df.tipoDiscurso.value_counts().index)\n",
    "ax.set_title('Tipos de Discursos na camará dos deputados')\n",
    "ax.set_ylabel('Volume de discursos')\n",
    "ax.set_xlabel('Tipo de Discursso')\n",
    "ax.tick_params(axis='x', rotation=90)"
   ]
  },
  {
   "cell_type": "code",
   "execution_count": 30,
   "id": "fc650c8e",
   "metadata": {},
   "outputs": [
    {
     "name": "stdout",
     "output_type": "stream",
     "text": [
      "52.22% dos discursos tem o tipo PELA ORDEM\n"
     ]
    }
   ],
   "source": [
    "pc = (len(df[df[\"tipoDiscurso\"]=='PELA ORDEM'])/len(df))*100\n",
    "print('{:.2f}% dos discursos tem o tipo PELA ORDEM'.format(pc))"
   ]
  },
  {
   "cell_type": "markdown",
   "id": "0ea3d5cc",
   "metadata": {},
   "source": [
    "Até a data de extração desse dataset tivemos 52% dos discursos com ao tipo de pela ordem, claramente vim um volume extremamente superior aos outros tipos. \n",
    "o que no caso é descrito com \"Uso da palavra em qualquer momento da sessão para intervenções não previstas. Pedido de permissão para uso da palavra para conhecer a orientação dos trabalhos.\" [pela camará dos deputados](https://www2.camara.leg.br/a-camara/estruturaadm/gestao-na-camara-dos-deputados/responsabilidade-social-e-ambiental/acessibilidade/glossarios/dicionario-de-libras/p/pela-ordem)"
   ]
  },
  {
   "cell_type": "code",
   "execution_count": 8,
   "id": "dfbc7372",
   "metadata": {},
   "outputs": [
    {
     "name": "stdout",
     "output_type": "stream",
     "text": [
      "<class 'pandas.core.frame.DataFrame'>\n",
      "RangeIndex: 6924 entries, 0 to 6923\n",
      "Data columns (total 9 columns):\n",
      " #   Column                Non-Null Count  Dtype         \n",
      "---  ------                --------------  -----         \n",
      " 0   id_deputado           6924 non-null   int64         \n",
      " 1   dataHoraInicio        6924 non-null   datetime64[ns]\n",
      " 2   tipoDiscurso          6920 non-null   object        \n",
      " 3   keywords              6905 non-null   object        \n",
      " 4   transcricao           6924 non-null   object        \n",
      " 5   nome                  6924 non-null   object        \n",
      " 6   siglaPartido          6924 non-null   object        \n",
      " 7   alinhamento_pulitoco  6554 non-null   object        \n",
      " 8   siglaUf               6924 non-null   object        \n",
      "dtypes: datetime64[ns](1), int64(1), object(7)\n",
      "memory usage: 487.0+ KB\n"
     ]
    }
   ],
   "source": [
    "df.info()"
   ]
  },
  {
   "cell_type": "code",
   "execution_count": 9,
   "id": "ad7975a8",
   "metadata": {},
   "outputs": [],
   "source": [
    "df['keywords'] = df.keywords.str.split(\",\")"
   ]
  },
  {
   "cell_type": "code",
   "execution_count": 10,
   "id": "ad43c5e6",
   "metadata": {},
   "outputs": [],
   "source": [
    "#não é bunito mais funiciona\n",
    "counter = 0\n",
    "df_words = pd.DataFrame(columns=['deputado','dataHoraInicio','keywords'])\n",
    "df_words['dataHoraInicio'] = pd.to_datetime(df_words['dataHoraInicio'])\n",
    "for index,row in df[~df['keywords'].isna()].iterrows() :\n",
    "    deputado=row['nome']\n",
    "    dataHoraInicio=row['dataHoraInicio']\n",
    "    keywords = row['keywords']\n",
    "    for keyword in keywords:\n",
    "        df_words.loc[counter]=[deputado, dataHoraInicio,keyword]\n",
    "        counter = counter+1"
   ]
  },
  {
   "cell_type": "code",
   "execution_count": 11,
   "id": "d62253c5",
   "metadata": {},
   "outputs": [
    {
     "data": {
      "text/plain": [
       "6905"
      ]
     },
     "execution_count": 11,
     "metadata": {},
     "output_type": "execute_result"
    }
   ],
   "source": [
    "len(df[~df['keywords'].isna()])"
   ]
  },
  {
   "cell_type": "code",
   "execution_count": 12,
   "id": "663a8692",
   "metadata": {},
   "outputs": [
    {
     "data": {
      "text/html": [
       "<div>\n",
       "<style scoped>\n",
       "    .dataframe tbody tr th:only-of-type {\n",
       "        vertical-align: middle;\n",
       "    }\n",
       "\n",
       "    .dataframe tbody tr th {\n",
       "        vertical-align: top;\n",
       "    }\n",
       "\n",
       "    .dataframe thead th {\n",
       "        text-align: right;\n",
       "    }\n",
       "</style>\n",
       "<table border=\"1\" class=\"dataframe\">\n",
       "  <thead>\n",
       "    <tr style=\"text-align: right;\">\n",
       "      <th></th>\n",
       "      <th>deputado</th>\n",
       "      <th>dataHoraInicio</th>\n",
       "      <th>keywords</th>\n",
       "    </tr>\n",
       "  </thead>\n",
       "  <tbody>\n",
       "    <tr>\n",
       "      <th>0</th>\n",
       "      <td>Carlos Chiodini</td>\n",
       "      <td>2019-04-04 15:12:00</td>\n",
       "      <td>MPV 868/2018</td>\n",
       "    </tr>\n",
       "    <tr>\n",
       "      <th>1</th>\n",
       "      <td>Carlos Chiodini</td>\n",
       "      <td>2019-04-04 15:12:00</td>\n",
       "      <td>MEDIDA PROVISORIA</td>\n",
       "    </tr>\n",
       "    <tr>\n",
       "      <th>2</th>\n",
       "      <td>Carlos Chiodini</td>\n",
       "      <td>2019-04-04 15:12:00</td>\n",
       "      <td>ALTERAÇÃO</td>\n",
       "    </tr>\n",
       "    <tr>\n",
       "      <th>3</th>\n",
       "      <td>Carlos Chiodini</td>\n",
       "      <td>2019-04-04 15:12:00</td>\n",
       "      <td>MARCO LEGAL DO SANEAMENTO BÁSICO.</td>\n",
       "    </tr>\n",
       "    <tr>\n",
       "      <th>4</th>\n",
       "      <td>Carlos Chiodini</td>\n",
       "      <td>2020-05-20 20:12:00</td>\n",
       "      <td>PL 2294/2020</td>\n",
       "    </tr>\n",
       "    <tr>\n",
       "      <th>...</th>\n",
       "      <td>...</td>\n",
       "      <td>...</td>\n",
       "      <td>...</td>\n",
       "    </tr>\n",
       "    <tr>\n",
       "      <th>65977</th>\n",
       "      <td>Odair Cunha</td>\n",
       "      <td>2019-06-25 20:12:00</td>\n",
       "      <td>COMISSÃO DE CONSTITUIÇÃO E JUSTIÇA E DE CIDAD...</td>\n",
       "    </tr>\n",
       "    <tr>\n",
       "      <th>65978</th>\n",
       "      <td>Odair Cunha</td>\n",
       "      <td>2019-06-25 20:12:00</td>\n",
       "      <td>PL 2788/2019</td>\n",
       "    </tr>\n",
       "    <tr>\n",
       "      <th>65979</th>\n",
       "      <td>Odair Cunha</td>\n",
       "      <td>2019-06-25 20:12:00</td>\n",
       "      <td>PROJETO DE LEI ORDINÁRIA</td>\n",
       "    </tr>\n",
       "    <tr>\n",
       "      <th>65980</th>\n",
       "      <td>Odair Cunha</td>\n",
       "      <td>2019-06-25 20:12:00</td>\n",
       "      <td>PARTIDO DOS TRABALHADORES (PT)</td>\n",
       "    </tr>\n",
       "    <tr>\n",
       "      <th>65981</th>\n",
       "      <td>Odair Cunha</td>\n",
       "      <td>2019-06-25 20:12:00</td>\n",
       "      <td>VOTO FAVORÁVEL.</td>\n",
       "    </tr>\n",
       "  </tbody>\n",
       "</table>\n",
       "<p>65982 rows × 3 columns</p>\n",
       "</div>"
      ],
      "text/plain": [
       "              deputado      dataHoraInicio  \\\n",
       "0      Carlos Chiodini 2019-04-04 15:12:00   \n",
       "1      Carlos Chiodini 2019-04-04 15:12:00   \n",
       "2      Carlos Chiodini 2019-04-04 15:12:00   \n",
       "3      Carlos Chiodini 2019-04-04 15:12:00   \n",
       "4      Carlos Chiodini 2020-05-20 20:12:00   \n",
       "...                ...                 ...   \n",
       "65977      Odair Cunha 2019-06-25 20:12:00   \n",
       "65978      Odair Cunha 2019-06-25 20:12:00   \n",
       "65979      Odair Cunha 2019-06-25 20:12:00   \n",
       "65980      Odair Cunha 2019-06-25 20:12:00   \n",
       "65981      Odair Cunha 2019-06-25 20:12:00   \n",
       "\n",
       "                                                keywords  \n",
       "0                                           MPV 868/2018  \n",
       "1                                      MEDIDA PROVISORIA  \n",
       "2                                              ALTERAÇÃO  \n",
       "3                      MARCO LEGAL DO SANEAMENTO BÁSICO.  \n",
       "4                                           PL 2294/2020  \n",
       "...                                                  ...  \n",
       "65977   COMISSÃO DE CONSTITUIÇÃO E JUSTIÇA E DE CIDAD...  \n",
       "65978                                       PL 2788/2019  \n",
       "65979                           PROJETO DE LEI ORDINÁRIA  \n",
       "65980                     PARTIDO DOS TRABALHADORES (PT)  \n",
       "65981                                    VOTO FAVORÁVEL.  \n",
       "\n",
       "[65982 rows x 3 columns]"
      ]
     },
     "execution_count": 12,
     "metadata": {},
     "output_type": "execute_result"
    }
   ],
   "source": [
    "df_words"
   ]
  },
  {
   "cell_type": "code",
   "execution_count": 13,
   "id": "49f34f95",
   "metadata": {},
   "outputs": [
    {
     "name": "stdout",
     "output_type": "stream",
     "text": [
      "<class 'pandas.core.frame.DataFrame'>\n",
      "Int64Index: 65982 entries, 0 to 65981\n",
      "Data columns (total 3 columns):\n",
      " #   Column          Non-Null Count  Dtype         \n",
      "---  ------          --------------  -----         \n",
      " 0   deputado        65982 non-null  object        \n",
      " 1   dataHoraInicio  65982 non-null  datetime64[ns]\n",
      " 2   keywords        65982 non-null  object        \n",
      "dtypes: datetime64[ns](1), object(2)\n",
      "memory usage: 2.0+ MB\n"
     ]
    }
   ],
   "source": [
    "df_words.info()"
   ]
  },
  {
   "cell_type": "code",
   "execution_count": 14,
   "id": "b74771a9",
   "metadata": {},
   "outputs": [],
   "source": [
    "df_words['dt_rounded']= df_words.dataHoraInicio.dt.round('D')\n",
    "df_words['dt_rounded']=df_words.dt_rounded- pd.to_timedelta(df_words.dt_rounded.dt.day,unit='d')"
   ]
  },
  {
   "cell_type": "code",
   "execution_count": 15,
   "id": "fd3d7c3a",
   "metadata": {},
   "outputs": [
    {
     "data": {
      "text/html": [
       "<div>\n",
       "<style scoped>\n",
       "    .dataframe tbody tr th:only-of-type {\n",
       "        vertical-align: middle;\n",
       "    }\n",
       "\n",
       "    .dataframe tbody tr th {\n",
       "        vertical-align: top;\n",
       "    }\n",
       "\n",
       "    .dataframe thead th {\n",
       "        text-align: right;\n",
       "    }\n",
       "</style>\n",
       "<table border=\"1\" class=\"dataframe\">\n",
       "  <thead>\n",
       "    <tr style=\"text-align: right;\">\n",
       "      <th></th>\n",
       "      <th>deputado</th>\n",
       "      <th>dataHoraInicio</th>\n",
       "      <th>keywords</th>\n",
       "      <th>dt_rounded</th>\n",
       "    </tr>\n",
       "  </thead>\n",
       "  <tbody>\n",
       "    <tr>\n",
       "      <th>0</th>\n",
       "      <td>Carlos Chiodini</td>\n",
       "      <td>2019-04-04 15:12:00</td>\n",
       "      <td>MPV 868/2018</td>\n",
       "      <td>2019-03-31</td>\n",
       "    </tr>\n",
       "    <tr>\n",
       "      <th>1</th>\n",
       "      <td>Carlos Chiodini</td>\n",
       "      <td>2019-04-04 15:12:00</td>\n",
       "      <td>MEDIDA PROVISORIA</td>\n",
       "      <td>2019-03-31</td>\n",
       "    </tr>\n",
       "    <tr>\n",
       "      <th>2</th>\n",
       "      <td>Carlos Chiodini</td>\n",
       "      <td>2019-04-04 15:12:00</td>\n",
       "      <td>ALTERAÇÃO</td>\n",
       "      <td>2019-03-31</td>\n",
       "    </tr>\n",
       "    <tr>\n",
       "      <th>3</th>\n",
       "      <td>Carlos Chiodini</td>\n",
       "      <td>2019-04-04 15:12:00</td>\n",
       "      <td>MARCO LEGAL DO SANEAMENTO BÁSICO.</td>\n",
       "      <td>2019-03-31</td>\n",
       "    </tr>\n",
       "    <tr>\n",
       "      <th>4</th>\n",
       "      <td>Carlos Chiodini</td>\n",
       "      <td>2020-05-20 20:12:00</td>\n",
       "      <td>PL 2294/2020</td>\n",
       "      <td>2020-04-30</td>\n",
       "    </tr>\n",
       "  </tbody>\n",
       "</table>\n",
       "</div>"
      ],
      "text/plain": [
       "          deputado      dataHoraInicio                            keywords  \\\n",
       "0  Carlos Chiodini 2019-04-04 15:12:00                        MPV 868/2018   \n",
       "1  Carlos Chiodini 2019-04-04 15:12:00                   MEDIDA PROVISORIA   \n",
       "2  Carlos Chiodini 2019-04-04 15:12:00                           ALTERAÇÃO   \n",
       "3  Carlos Chiodini 2019-04-04 15:12:00   MARCO LEGAL DO SANEAMENTO BÁSICO.   \n",
       "4  Carlos Chiodini 2020-05-20 20:12:00                        PL 2294/2020   \n",
       "\n",
       "  dt_rounded  \n",
       "0 2019-03-31  \n",
       "1 2019-03-31  \n",
       "2 2019-03-31  \n",
       "3 2019-03-31  \n",
       "4 2020-04-30  "
      ]
     },
     "execution_count": 15,
     "metadata": {},
     "output_type": "execute_result"
    }
   ],
   "source": [
    "df_words.head()"
   ]
  },
  {
   "cell_type": "code",
   "execution_count": 16,
   "id": "28a4558d",
   "metadata": {},
   "outputs": [],
   "source": [
    "df_time = df_words.groupby(by=['dt_rounded','keywords']).count().reset_index()"
   ]
  },
  {
   "cell_type": "code",
   "execution_count": 17,
   "id": "de4416db",
   "metadata": {},
   "outputs": [],
   "source": [
    "k_words=['ORIENTAÇÃO DE BANCADA',' PROJETO DE LEI ORDINÁRIA',\n",
    "         'PROPOSTA DE EMENDA À CONSTITUIÇÃO','DEPUTADO FEDERAL','MEDIDA PROVISÓRIA','',\n",
    "         ' ORIENTAÇÃO DE BANCADA',' PROPOSTA DE EMENDA À CONSTITUIÇÃO',\n",
    "         ' DEPUTADO FEDERAL',' MEDIDA PROVISÓRIA','PROJETO DE LEI COMPLEMENTAR',\n",
    "         ' PROJETO DE LEI COMPLEMENTAR','REQUERIMENTO DE DESTAQUE DE VOTAÇÃO EM SEPARADO',\n",
    "        ' REQUERIMENTO DE DESTAQUE DE VOTAÇÃO EM SEPARADO']\n",
    "df_out = pd.DataFrame()\n",
    "for i in df_time.dt_rounded.unique():\n",
    "    df_x = df_time[(df_time['dt_rounded']==i)]\n",
    "    df_x = df_x[['dt_rounded','keywords','deputado']].sort_values(by='deputado',ascending=False)\n",
    "    df_x = df_x[~df_x['keywords'].isin(k_words)]\n",
    "    df_out=df_out.append(df_x.head(1))"
   ]
  },
  {
   "cell_type": "code",
   "execution_count": 18,
   "id": "d7c8d428",
   "metadata": {},
   "outputs": [
    {
     "data": {
      "text/html": [
       "<div>\n",
       "<style scoped>\n",
       "    .dataframe tbody tr th:only-of-type {\n",
       "        vertical-align: middle;\n",
       "    }\n",
       "\n",
       "    .dataframe tbody tr th {\n",
       "        vertical-align: top;\n",
       "    }\n",
       "\n",
       "    .dataframe thead th {\n",
       "        text-align: right;\n",
       "    }\n",
       "</style>\n",
       "<table border=\"1\" class=\"dataframe\">\n",
       "  <thead>\n",
       "    <tr style=\"text-align: right;\">\n",
       "      <th></th>\n",
       "      <th>dt_rounded</th>\n",
       "      <th>keywords</th>\n",
       "      <th>deputado</th>\n",
       "    </tr>\n",
       "  </thead>\n",
       "  <tbody>\n",
       "    <tr>\n",
       "      <th>978</th>\n",
       "      <td>2019-01-31</td>\n",
       "      <td>CRÍTICA.</td>\n",
       "      <td>121</td>\n",
       "    </tr>\n",
       "    <tr>\n",
       "      <th>6146</th>\n",
       "      <td>2019-02-28</td>\n",
       "      <td>PL 2724/2015</td>\n",
       "      <td>116</td>\n",
       "    </tr>\n",
       "    <tr>\n",
       "      <th>9262</th>\n",
       "      <td>2019-03-31</td>\n",
       "      <td>REFORMA PREVIDENCIÁRIA (2019)</td>\n",
       "      <td>116</td>\n",
       "    </tr>\n",
       "    <tr>\n",
       "      <th>10573</th>\n",
       "      <td>2019-04-30</td>\n",
       "      <td>CONTINGENCIAMENTO</td>\n",
       "      <td>95</td>\n",
       "    </tr>\n",
       "    <tr>\n",
       "      <th>13269</th>\n",
       "      <td>2019-05-31</td>\n",
       "      <td>MPV 875/2019</td>\n",
       "      <td>31</td>\n",
       "    </tr>\n",
       "  </tbody>\n",
       "</table>\n",
       "</div>"
      ],
      "text/plain": [
       "      dt_rounded                        keywords  deputado\n",
       "978   2019-01-31                        CRÍTICA.       121\n",
       "6146  2019-02-28                    PL 2724/2015       116\n",
       "9262  2019-03-31   REFORMA PREVIDENCIÁRIA (2019)       116\n",
       "10573 2019-04-30               CONTINGENCIAMENTO        95\n",
       "13269 2019-05-31                    MPV 875/2019        31"
      ]
     },
     "execution_count": 18,
     "metadata": {},
     "output_type": "execute_result"
    }
   ],
   "source": [
    "df_out.head()"
   ]
  },
  {
   "cell_type": "code",
   "execution_count": 19,
   "id": "58b7e589",
   "metadata": {},
   "outputs": [
    {
     "data": {
      "image/png": "[encoded data removed]",
      "text/plain": [
       "<Figure size 1080x576 with 1 Axes>"
      ]
     },
     "metadata": {
      "needs_background": "light"
     },
     "output_type": "display_data"
    }
   ],
   "source": [
    "plt.figure(figsize=(15,8))\n",
    "plt.xticks(rotation=90)\n",
    "ax = sns.countplot(data=df_out,x='keywords',\n",
    "                  order=df_out.keywords.value_counts().index)\n",
    "ax.set_title('Principais temas discutidos na camará dos deputados por número de meses')\n",
    "ax.set_ylabel('Numero de meses')\n",
    "ax.set_xlabel('Tema do discurso')\n",
    "ax.tick_params(axis='x', rotation=90)"
   ]
  },
  {
   "cell_type": "code",
   "execution_count": 20,
   "id": "72a688f7",
   "metadata": {},
   "outputs": [
    {
     "data": {
      "text/html": [
       "<div>\n",
       "<style scoped>\n",
       "    .dataframe tbody tr th:only-of-type {\n",
       "        vertical-align: middle;\n",
       "    }\n",
       "\n",
       "    .dataframe tbody tr th {\n",
       "        vertical-align: top;\n",
       "    }\n",
       "\n",
       "    .dataframe thead th {\n",
       "        text-align: right;\n",
       "    }\n",
       "</style>\n",
       "<table border=\"1\" class=\"dataframe\">\n",
       "  <thead>\n",
       "    <tr style=\"text-align: right;\">\n",
       "      <th></th>\n",
       "      <th>id_deputado</th>\n",
       "      <th>dataHoraInicio</th>\n",
       "      <th>tipoDiscurso</th>\n",
       "      <th>keywords</th>\n",
       "      <th>transcricao</th>\n",
       "      <th>nome</th>\n",
       "      <th>siglaPartido</th>\n",
       "      <th>alinhamento_pulitoco</th>\n",
       "      <th>siglaUf</th>\n",
       "    </tr>\n",
       "  </thead>\n",
       "  <tbody>\n",
       "    <tr>\n",
       "      <th>0</th>\n",
       "      <td>204361</td>\n",
       "      <td>2019-04-04 15:12:00</td>\n",
       "      <td>PELA ORDEM</td>\n",
       "      <td>[MPV 868/2018,  MEDIDA PROVISORIA,  ALTERAÇÃO,...</td>\n",
       "      <td>O SR. CARLOS CHIODINI (Bloco/MDB - SC. Pela or...</td>\n",
       "      <td>Carlos Chiodini</td>\n",
       "      <td>MDB</td>\n",
       "      <td>None</td>\n",
       "      <td>SC</td>\n",
       "    </tr>\n",
       "    <tr>\n",
       "      <th>1</th>\n",
       "      <td>204361</td>\n",
       "      <td>2020-05-20 20:12:00</td>\n",
       "      <td>PELA ORDEM</td>\n",
       "      <td>[PL 2294/2020,  PROJETO DE LEI ORDINÁRIA,  FLE...</td>\n",
       "      <td>O SR. CARLOS CHIODINI (Bloco/MDB - SC. Pela or...</td>\n",
       "      <td>Carlos Chiodini</td>\n",
       "      <td>MDB</td>\n",
       "      <td>None</td>\n",
       "      <td>SC</td>\n",
       "    </tr>\n",
       "    <tr>\n",
       "      <th>2</th>\n",
       "      <td>204361</td>\n",
       "      <td>2019-06-26 16:32:00</td>\n",
       "      <td>PELA ORDEM</td>\n",
       "      <td>[IVAN NAATZ,  DEPUTADO ESTADUAL,  SANTA CATARI...</td>\n",
       "      <td>O SR. CARLOS CHIODINI (Bloco/MDB - SC. Pela or...</td>\n",
       "      <td>Carlos Chiodini</td>\n",
       "      <td>MDB</td>\n",
       "      <td>None</td>\n",
       "      <td>SC</td>\n",
       "    </tr>\n",
       "    <tr>\n",
       "      <th>3</th>\n",
       "      <td>204361</td>\n",
       "      <td>2020-05-21 19:16:00</td>\n",
       "      <td>DISCUSSÃO</td>\n",
       "      <td>[DISCUSSÃO,  PL 2294/2020,  PROJETO DE LEI ORD...</td>\n",
       "      <td>O SR. CARLOS CHIODINI (Bloco/MDB - SC. Sem rev...</td>\n",
       "      <td>Carlos Chiodini</td>\n",
       "      <td>MDB</td>\n",
       "      <td>None</td>\n",
       "      <td>SC</td>\n",
       "    </tr>\n",
       "    <tr>\n",
       "      <th>4</th>\n",
       "      <td>178908</td>\n",
       "      <td>2019-02-13 18:28:00</td>\n",
       "      <td>PELA ORDEM</td>\n",
       "      <td>[REFORMA PREVIDENCIÁRIA,  FAVORÁVEL.]</td>\n",
       "      <td>O SR. DELEGADO ÉDER MAURO (Bloco/PSD - PA. Pel...</td>\n",
       "      <td>Delegado Éder Mauro</td>\n",
       "      <td>PSD</td>\n",
       "      <td>direita</td>\n",
       "      <td>PA</td>\n",
       "    </tr>\n",
       "  </tbody>\n",
       "</table>\n",
       "</div>"
      ],
      "text/plain": [
       "   id_deputado      dataHoraInicio tipoDiscurso  \\\n",
       "0       204361 2019-04-04 15:12:00   PELA ORDEM   \n",
       "1       204361 2020-05-20 20:12:00   PELA ORDEM   \n",
       "2       204361 2019-06-26 16:32:00   PELA ORDEM   \n",
       "3       204361 2020-05-21 19:16:00    DISCUSSÃO   \n",
       "4       178908 2019-02-13 18:28:00   PELA ORDEM   \n",
       "\n",
       "                                            keywords  \\\n",
       "0  [MPV 868/2018,  MEDIDA PROVISORIA,  ALTERAÇÃO,...   \n",
       "1  [PL 2294/2020,  PROJETO DE LEI ORDINÁRIA,  FLE...   \n",
       "2  [IVAN NAATZ,  DEPUTADO ESTADUAL,  SANTA CATARI...   \n",
       "3  [DISCUSSÃO,  PL 2294/2020,  PROJETO DE LEI ORD...   \n",
       "4              [REFORMA PREVIDENCIÁRIA,  FAVORÁVEL.]   \n",
       "\n",
       "                                         transcricao                 nome  \\\n",
       "0  O SR. CARLOS CHIODINI (Bloco/MDB - SC. Pela or...      Carlos Chiodini   \n",
       "1  O SR. CARLOS CHIODINI (Bloco/MDB - SC. Pela or...      Carlos Chiodini   \n",
       "2  O SR. CARLOS CHIODINI (Bloco/MDB - SC. Pela or...      Carlos Chiodini   \n",
       "3  O SR. CARLOS CHIODINI (Bloco/MDB - SC. Sem rev...      Carlos Chiodini   \n",
       "4  O SR. DELEGADO ÉDER MAURO (Bloco/PSD - PA. Pel...  Delegado Éder Mauro   \n",
       "\n",
       "  siglaPartido alinhamento_pulitoco siglaUf  \n",
       "0          MDB                 None      SC  \n",
       "1          MDB                 None      SC  \n",
       "2          MDB                 None      SC  \n",
       "3          MDB                 None      SC  \n",
       "4          PSD              direita      PA  "
      ]
     },
     "execution_count": 20,
     "metadata": {},
     "output_type": "execute_result"
    }
   ],
   "source": [
    "df.head()"
   ]
  },
  {
   "cell_type": "code",
   "execution_count": 21,
   "id": "9613d1ef",
   "metadata": {},
   "outputs": [
    {
     "data": {
      "text/plain": [
       "Text(0.5, 0, 'Sigla do partido')"
      ]
     },
     "execution_count": 21,
     "metadata": {},
     "output_type": "execute_result"
    },
    {
     "data": {
      "image/png": "[encoded data removed]",
      "text/plain": [
       "<Figure size 1080x576 with 1 Axes>"
      ]
     },
     "metadata": {
      "needs_background": "light"
     },
     "output_type": "display_data"
    }
   ],
   "source": [
    "plt.figure(figsize=(15,8))\n",
    "plt.xticks(rotation=90)\n",
    "ax = sns.countplot(data=df, x = 'siglaPartido',order=df.siglaPartido.value_counts().index)\n",
    "ax.set_title('Numero de discursos por partido')\n",
    "ax.set_ylabel('Numero de discursos')\n",
    "ax.set_xlabel('Sigla do partido')"
   ]
  },
  {
   "cell_type": "markdown",
   "id": "2f3c753c",
   "metadata": {},
   "source": [
    "Aqui vemos um senário parecido que vimos na [analise de cenário da camará de deputados](https://github.com/adanielrangel/project_sume/blob/main/analises/analise_cenario_camara_de_daputados.ipynb) porem com algumas mudanças interessantes. \n",
    "vemos o pl que é o terceiro partido em volume de deputados utilizando muito menos que os outros partidos do mesmo tamanho, mas com essa exceção o volume de uso do púlpito é proporcional ao volume de deputados do partido. isso é mais estranho quando lembramos que o pl é o partido em que o presidente se elegeu. "
   ]
  },
  {
   "cell_type": "code",
   "execution_count": 22,
   "id": "e3d5e7bd",
   "metadata": {},
   "outputs": [
    {
     "data": {
      "text/plain": [
       "array(['MDB', 'PSD', 'CIDADANIA', 'PDT', 'PL', 'PT', 'PODE', 'PSL', 'PSB',\n",
       "       'PSOL', 'PROS', 'REPUBLICANOS', 'PCdoB', 'DEM', 'PP', 'PSDB',\n",
       "       'SOLIDARIEDADE', 'PATRIOTA', 'NOVO', 'PTB', 'AVANTE', 'PSC', 'PV',\n",
       "       'REDE', 'S.PART.'], dtype=object)"
      ]
     },
     "execution_count": 22,
     "metadata": {},
     "output_type": "execute_result"
    }
   ],
   "source": [
    "df.siglaPartido.unique()"
   ]
  },
  {
   "cell_type": "code",
   "execution_count": 23,
   "id": "7c92554d",
   "metadata": {},
   "outputs": [
    {
     "data": {
      "text/html": [
       "<div>\n",
       "<style scoped>\n",
       "    .dataframe tbody tr th:only-of-type {\n",
       "        vertical-align: middle;\n",
       "    }\n",
       "\n",
       "    .dataframe tbody tr th {\n",
       "        vertical-align: top;\n",
       "    }\n",
       "\n",
       "    .dataframe thead th {\n",
       "        text-align: right;\n",
       "    }\n",
       "</style>\n",
       "<table border=\"1\" class=\"dataframe\">\n",
       "  <thead>\n",
       "    <tr style=\"text-align: right;\">\n",
       "      <th></th>\n",
       "      <th>id_deputado</th>\n",
       "      <th>dataHoraInicio</th>\n",
       "      <th>tipoDiscurso</th>\n",
       "      <th>keywords</th>\n",
       "      <th>transcricao</th>\n",
       "      <th>nome</th>\n",
       "      <th>siglaPartido</th>\n",
       "      <th>alinhamento_pulitoco</th>\n",
       "      <th>siglaUf</th>\n",
       "    </tr>\n",
       "  </thead>\n",
       "  <tbody>\n",
       "    <tr>\n",
       "      <th>0</th>\n",
       "      <td>204361</td>\n",
       "      <td>2019-04-04 15:12:00</td>\n",
       "      <td>PELA ORDEM</td>\n",
       "      <td>[MPV 868/2018,  MEDIDA PROVISORIA,  ALTERAÇÃO,...</td>\n",
       "      <td>O SR. CARLOS CHIODINI (Bloco/MDB - SC. Pela or...</td>\n",
       "      <td>Carlos Chiodini</td>\n",
       "      <td>MDB</td>\n",
       "      <td>None</td>\n",
       "      <td>SC</td>\n",
       "    </tr>\n",
       "    <tr>\n",
       "      <th>1</th>\n",
       "      <td>204361</td>\n",
       "      <td>2020-05-20 20:12:00</td>\n",
       "      <td>PELA ORDEM</td>\n",
       "      <td>[PL 2294/2020,  PROJETO DE LEI ORDINÁRIA,  FLE...</td>\n",
       "      <td>O SR. CARLOS CHIODINI (Bloco/MDB - SC. Pela or...</td>\n",
       "      <td>Carlos Chiodini</td>\n",
       "      <td>MDB</td>\n",
       "      <td>None</td>\n",
       "      <td>SC</td>\n",
       "    </tr>\n",
       "    <tr>\n",
       "      <th>2</th>\n",
       "      <td>204361</td>\n",
       "      <td>2019-06-26 16:32:00</td>\n",
       "      <td>PELA ORDEM</td>\n",
       "      <td>[IVAN NAATZ,  DEPUTADO ESTADUAL,  SANTA CATARI...</td>\n",
       "      <td>O SR. CARLOS CHIODINI (Bloco/MDB - SC. Pela or...</td>\n",
       "      <td>Carlos Chiodini</td>\n",
       "      <td>MDB</td>\n",
       "      <td>None</td>\n",
       "      <td>SC</td>\n",
       "    </tr>\n",
       "    <tr>\n",
       "      <th>3</th>\n",
       "      <td>204361</td>\n",
       "      <td>2020-05-21 19:16:00</td>\n",
       "      <td>DISCUSSÃO</td>\n",
       "      <td>[DISCUSSÃO,  PL 2294/2020,  PROJETO DE LEI ORD...</td>\n",
       "      <td>O SR. CARLOS CHIODINI (Bloco/MDB - SC. Sem rev...</td>\n",
       "      <td>Carlos Chiodini</td>\n",
       "      <td>MDB</td>\n",
       "      <td>None</td>\n",
       "      <td>SC</td>\n",
       "    </tr>\n",
       "    <tr>\n",
       "      <th>4</th>\n",
       "      <td>178908</td>\n",
       "      <td>2019-02-13 18:28:00</td>\n",
       "      <td>PELA ORDEM</td>\n",
       "      <td>[REFORMA PREVIDENCIÁRIA,  FAVORÁVEL.]</td>\n",
       "      <td>O SR. DELEGADO ÉDER MAURO (Bloco/PSD - PA. Pel...</td>\n",
       "      <td>Delegado Éder Mauro</td>\n",
       "      <td>PSD</td>\n",
       "      <td>direita</td>\n",
       "      <td>PA</td>\n",
       "    </tr>\n",
       "  </tbody>\n",
       "</table>\n",
       "</div>"
      ],
      "text/plain": [
       "   id_deputado      dataHoraInicio tipoDiscurso  \\\n",
       "0       204361 2019-04-04 15:12:00   PELA ORDEM   \n",
       "1       204361 2020-05-20 20:12:00   PELA ORDEM   \n",
       "2       204361 2019-06-26 16:32:00   PELA ORDEM   \n",
       "3       204361 2020-05-21 19:16:00    DISCUSSÃO   \n",
       "4       178908 2019-02-13 18:28:00   PELA ORDEM   \n",
       "\n",
       "                                            keywords  \\\n",
       "0  [MPV 868/2018,  MEDIDA PROVISORIA,  ALTERAÇÃO,...   \n",
       "1  [PL 2294/2020,  PROJETO DE LEI ORDINÁRIA,  FLE...   \n",
       "2  [IVAN NAATZ,  DEPUTADO ESTADUAL,  SANTA CATARI...   \n",
       "3  [DISCUSSÃO,  PL 2294/2020,  PROJETO DE LEI ORD...   \n",
       "4              [REFORMA PREVIDENCIÁRIA,  FAVORÁVEL.]   \n",
       "\n",
       "                                         transcricao                 nome  \\\n",
       "0  O SR. CARLOS CHIODINI (Bloco/MDB - SC. Pela or...      Carlos Chiodini   \n",
       "1  O SR. CARLOS CHIODINI (Bloco/MDB - SC. Pela or...      Carlos Chiodini   \n",
       "2  O SR. CARLOS CHIODINI (Bloco/MDB - SC. Pela or...      Carlos Chiodini   \n",
       "3  O SR. CARLOS CHIODINI (Bloco/MDB - SC. Sem rev...      Carlos Chiodini   \n",
       "4  O SR. DELEGADO ÉDER MAURO (Bloco/PSD - PA. Pel...  Delegado Éder Mauro   \n",
       "\n",
       "  siglaPartido alinhamento_pulitoco siglaUf  \n",
       "0          MDB                 None      SC  \n",
       "1          MDB                 None      SC  \n",
       "2          MDB                 None      SC  \n",
       "3          MDB                 None      SC  \n",
       "4          PSD              direita      PA  "
      ]
     },
     "execution_count": 23,
     "metadata": {},
     "output_type": "execute_result"
    }
   ],
   "source": [
    "df.head()"
   ]
  },
  {
   "cell_type": "code",
   "execution_count": 24,
   "id": "16ee3210",
   "metadata": {},
   "outputs": [],
   "source": [
    "df_top_partido = pd.DataFrame()\n",
    "for partido in df.siglaPartido.unique():\n",
    "    df_partido = df[df['siglaPartido']==partido].nome.value_counts(normalize=True).sort_values(ascending=False).reset_index()\n",
    "    df_partido['siglaPartido'] = partido\n",
    "    df_top_partido = df_top_partido.append(df_partido.head(n=1))"
   ]
  },
  {
   "cell_type": "code",
   "execution_count": 25,
   "id": "bbb4a91a",
   "metadata": {},
   "outputs": [
    {
     "data": {
      "text/plain": [
       "Text(0.5, 0, 'sigla do partido')"
      ]
     },
     "execution_count": 25,
     "metadata": {},
     "output_type": "execute_result"
    },
    {
     "data": {
      "image/png": "[encoded data removed]",
      "text/plain": [
       "<Figure size 1080x576 with 1 Axes>"
      ]
     },
     "metadata": {
      "needs_background": "light"
     },
     "output_type": "display_data"
    }
   ],
   "source": [
    "plt.figure(figsize=(15,8))\n",
    "plt.xticks(rotation=90)\n",
    "ax = sns.barplot(data = df_top_partido, x='siglaPartido',y='nome',\n",
    "            order=df_top_partido.sort_values(by='nome').siglaPartido\n",
    "           )\n",
    "ax.set_title('Concentração dos discursos nos principais deputados do partido')\n",
    "ax.set_ylabel('% dos discursos fetos pelo principal deputado')\n",
    "ax.set_xlabel('Sigla do partido')"
   ]
  },
  {
   "cell_type": "markdown",
   "id": "8b696802",
   "metadata": {},
   "source": [
    "Aqui vemos algo que é interessante. \n",
    "Provavelmente exite uma cota de discursos por deputado, e quanto menor o partido, mais concentrado o 'poder' de uso do púlpito. "
   ]
  },
  {
   "cell_type": "code",
   "execution_count": 27,
   "id": "72e5e761",
   "metadata": {},
   "outputs": [
    {
     "data": {
      "text/html": [
       "<div>\n",
       "<style scoped>\n",
       "    .dataframe tbody tr th:only-of-type {\n",
       "        vertical-align: middle;\n",
       "    }\n",
       "\n",
       "    .dataframe tbody tr th {\n",
       "        vertical-align: top;\n",
       "    }\n",
       "\n",
       "    .dataframe thead th {\n",
       "        text-align: right;\n",
       "    }\n",
       "</style>\n",
       "<table border=\"1\" class=\"dataframe\">\n",
       "  <thead>\n",
       "    <tr style=\"text-align: right;\">\n",
       "      <th></th>\n",
       "      <th>index</th>\n",
       "      <th>nome</th>\n",
       "      <th>siglaPartido</th>\n",
       "    </tr>\n",
       "  </thead>\n",
       "  <tbody>\n",
       "    <tr>\n",
       "      <th>0</th>\n",
       "      <td>Margarida Salomão</td>\n",
       "      <td>0.018160</td>\n",
       "      <td>PT</td>\n",
       "    </tr>\n",
       "    <tr>\n",
       "      <th>0</th>\n",
       "      <td>Vitor Hugo</td>\n",
       "      <td>0.020080</td>\n",
       "      <td>PSL</td>\n",
       "    </tr>\n",
       "    <tr>\n",
       "      <th>0</th>\n",
       "      <td>Franco Cartafina</td>\n",
       "      <td>0.029880</td>\n",
       "      <td>PP</td>\n",
       "    </tr>\n",
       "    <tr>\n",
       "      <th>0</th>\n",
       "      <td>Rosana Valle</td>\n",
       "      <td>0.030242</td>\n",
       "      <td>PSB</td>\n",
       "    </tr>\n",
       "    <tr>\n",
       "      <th>0</th>\n",
       "      <td>Delegado Éder Mauro</td>\n",
       "      <td>0.032189</td>\n",
       "      <td>PSD</td>\n",
       "    </tr>\n",
       "    <tr>\n",
       "      <th>0</th>\n",
       "      <td>Vitor Lippi</td>\n",
       "      <td>0.032258</td>\n",
       "      <td>PSDB</td>\n",
       "    </tr>\n",
       "    <tr>\n",
       "      <th>0</th>\n",
       "      <td>Márcio Marinho</td>\n",
       "      <td>0.034404</td>\n",
       "      <td>REPUBLICANOS</td>\n",
       "    </tr>\n",
       "    <tr>\n",
       "      <th>0</th>\n",
       "      <td>Fernando Rodolfo</td>\n",
       "      <td>0.039894</td>\n",
       "      <td>PL</td>\n",
       "    </tr>\n",
       "    <tr>\n",
       "      <th>0</th>\n",
       "      <td>Vinicius Farah</td>\n",
       "      <td>0.042254</td>\n",
       "      <td>MDB</td>\n",
       "    </tr>\n",
       "    <tr>\n",
       "      <th>0</th>\n",
       "      <td>Afonso Motta</td>\n",
       "      <td>0.043103</td>\n",
       "      <td>PDT</td>\n",
       "    </tr>\n",
       "    <tr>\n",
       "      <th>0</th>\n",
       "      <td>Kim Kataguiri</td>\n",
       "      <td>0.046440</td>\n",
       "      <td>DEM</td>\n",
       "    </tr>\n",
       "    <tr>\n",
       "      <th>0</th>\n",
       "      <td>Lucas Vergilio</td>\n",
       "      <td>0.090909</td>\n",
       "      <td>SOLIDARIEDADE</td>\n",
       "    </tr>\n",
       "    <tr>\n",
       "      <th>0</th>\n",
       "      <td>Léo Moraes</td>\n",
       "      <td>0.096154</td>\n",
       "      <td>PODE</td>\n",
       "    </tr>\n",
       "    <tr>\n",
       "      <th>0</th>\n",
       "      <td>Santini</td>\n",
       "      <td>0.099338</td>\n",
       "      <td>PTB</td>\n",
       "    </tr>\n",
       "    <tr>\n",
       "      <th>0</th>\n",
       "      <td>Edmilson Rodrigues</td>\n",
       "      <td>0.100000</td>\n",
       "      <td>PSOL</td>\n",
       "    </tr>\n",
       "    <tr>\n",
       "      <th>0</th>\n",
       "      <td>Boca Aberta</td>\n",
       "      <td>0.102041</td>\n",
       "      <td>PROS</td>\n",
       "    </tr>\n",
       "    <tr>\n",
       "      <th>0</th>\n",
       "      <td>André Ferreira</td>\n",
       "      <td>0.107143</td>\n",
       "      <td>PSC</td>\n",
       "    </tr>\n",
       "    <tr>\n",
       "      <th>0</th>\n",
       "      <td>Daniel Almeida</td>\n",
       "      <td>0.111111</td>\n",
       "      <td>PCdoB</td>\n",
       "    </tr>\n",
       "    <tr>\n",
       "      <th>0</th>\n",
       "      <td>Daniel Coelho</td>\n",
       "      <td>0.111111</td>\n",
       "      <td>CIDADANIA</td>\n",
       "    </tr>\n",
       "    <tr>\n",
       "      <th>0</th>\n",
       "      <td>Lucas Gonzalez</td>\n",
       "      <td>0.125000</td>\n",
       "      <td>NOVO</td>\n",
       "    </tr>\n",
       "    <tr>\n",
       "      <th>0</th>\n",
       "      <td>Fernando Borja</td>\n",
       "      <td>0.128205</td>\n",
       "      <td>AVANTE</td>\n",
       "    </tr>\n",
       "    <tr>\n",
       "      <th>0</th>\n",
       "      <td>Fred Costa</td>\n",
       "      <td>0.192308</td>\n",
       "      <td>PATRIOTA</td>\n",
       "    </tr>\n",
       "    <tr>\n",
       "      <th>0</th>\n",
       "      <td>Enrico Misasi</td>\n",
       "      <td>0.250000</td>\n",
       "      <td>PV</td>\n",
       "    </tr>\n",
       "    <tr>\n",
       "      <th>0</th>\n",
       "      <td>Joenia Wapichana</td>\n",
       "      <td>1.000000</td>\n",
       "      <td>REDE</td>\n",
       "    </tr>\n",
       "    <tr>\n",
       "      <th>0</th>\n",
       "      <td>Rodrigo Maia</td>\n",
       "      <td>1.000000</td>\n",
       "      <td>S.PART.</td>\n",
       "    </tr>\n",
       "  </tbody>\n",
       "</table>\n",
       "</div>"
      ],
      "text/plain": [
       "                 index      nome   siglaPartido\n",
       "0    Margarida Salomão  0.018160             PT\n",
       "0           Vitor Hugo  0.020080            PSL\n",
       "0     Franco Cartafina  0.029880             PP\n",
       "0         Rosana Valle  0.030242            PSB\n",
       "0  Delegado Éder Mauro  0.032189            PSD\n",
       "0          Vitor Lippi  0.032258           PSDB\n",
       "0       Márcio Marinho  0.034404   REPUBLICANOS\n",
       "0     Fernando Rodolfo  0.039894             PL\n",
       "0       Vinicius Farah  0.042254            MDB\n",
       "0         Afonso Motta  0.043103            PDT\n",
       "0        Kim Kataguiri  0.046440            DEM\n",
       "0       Lucas Vergilio  0.090909  SOLIDARIEDADE\n",
       "0           Léo Moraes  0.096154           PODE\n",
       "0              Santini  0.099338            PTB\n",
       "0   Edmilson Rodrigues  0.100000           PSOL\n",
       "0          Boca Aberta  0.102041           PROS\n",
       "0       André Ferreira  0.107143            PSC\n",
       "0       Daniel Almeida  0.111111          PCdoB\n",
       "0        Daniel Coelho  0.111111      CIDADANIA\n",
       "0       Lucas Gonzalez  0.125000           NOVO\n",
       "0       Fernando Borja  0.128205         AVANTE\n",
       "0           Fred Costa  0.192308       PATRIOTA\n",
       "0        Enrico Misasi  0.250000             PV\n",
       "0     Joenia Wapichana  1.000000           REDE\n",
       "0         Rodrigo Maia  1.000000        S.PART."
      ]
     },
     "execution_count": 27,
     "metadata": {},
     "output_type": "execute_result"
    }
   ],
   "source": [
    "df_top_partido.sort_values('nome')"
   ]
  },
  {
   "cell_type": "markdown",
   "id": "f16fb2ad",
   "metadata": {},
   "source": [
    "Aqui vemos essa aglomeração por tamanho de partido e vemos qual deputado é o que mais controla o volume de discursos.\n",
    "Temos dois destaques importantes. <br>\n",
    "Rodrigo maia - sem partido:<br>\n",
    "Provavelmente ele fez esse discurso no começo do mandato, durante a troca de mandatos, tendo em vista que ele era presidente da camará dos deputados no mandato anterior. <br>\n",
    "Joenia wapichana - Rede:<br>\n",
    "Rede é um dos menores partidos em volume de deputados, provavelmente por isso ele concentra 100% dos discursos desse partido.\n",
    "Com exerção desses casos vemos que o restante dos partidos não possui um domínio tão forte de um deputado, e esse percentual é inversamente proporcional ao tamanho do partido. ou seja quanto maior o partido menor a representatividade do principal deputado. "
   ]
  },
  {
   "cell_type": "markdown",
   "id": "1795bb2e",
   "metadata": {},
   "source": [
    "## conclusão\n",
    "\n",
    "nesse estudo entendemos que existe uma proporcionalidade entre o tamanho do partido e o número de discursos, isso aponta para um número limite de discursos por deputados. \n",
    "além disso, nessa legislatura vemos uma preferência por temas sobre a pandemia de covid-19 e usu do tipo de discurso pela ordem."
   ]
  }
 ],
 "metadata": {
  "kernelspec": {
   "display_name": "project-sume",
   "language": "python",
   "name": "project-sume"
  },
  "language_info": {
   "codemirror_mode": {
    "name": "ipython",
    "version": 3
   },
   "file_extension": ".py",
   "mimetype": "text/x-python",
   "name": "python",
   "nbconvert_exporter": "python",
   "pygments_lexer": "ipython3",
   "version": "3.8.6"
  }
 },
 "nbformat": 4,
 "nbformat_minor": 5
}
