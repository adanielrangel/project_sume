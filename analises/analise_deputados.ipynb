{
 "cells": [
  {
   "cell_type": "markdown",
   "id": "6cfb74e5",
   "metadata": {},
   "source": [
    "# analise de perfil dos deputados\n",
    "\n",
    "## obj : \n",
    "neste notebook queremos olhar para os deptados em si e entender qual é o perfil desses deputados e como algumas dessas caracteristicas evoluem no tempo. \n",
    "\n",
    "\n",
    "## perguntas a serem respondidas nesse notbook: \n",
    "\n",
    "qual é o perfil dos puliticos que compoem a camara dos deputados no brasil ? \n",
    "\n",
    "para isso vamos olhar para olguns pontos: \n",
    "\n",
    "quantos mandatos eles possuem ? \n",
    "\n",
    "qual é o nivel educacional deles ? \n",
    "\n",
    "qual é a idade deles ? \n",
    "\n",
    "qual sexo ? \n",
    "\n",
    "eles representam os estados em que eles nasceram ? \n"
   ]
  },
  {
   "cell_type": "code",
   "execution_count": 1,
   "id": "85bfe649",
   "metadata": {},
   "outputs": [],
   "source": [
    "%load_ext autoreload\n",
    "%autoreload 2\n",
    "%matplotlib inline\n",
    "\n",
    "from src import project_utils as pu \n",
    "import pandas as pd \n",
    "import seaborn as sns \n",
    "from scipy import stats\n",
    "import numpy as np \n",
    "import datetime as dt \n",
    "from statsmodels.graphics.gofplots import qqplot"
   ]
  },
  {
   "cell_type": "code",
   "execution_count": 2,
   "id": "5948918c",
   "metadata": {},
   "outputs": [],
   "source": [
    "con = pu.get_conection()"
   ]
  },
  {
   "cell_type": "code",
   "execution_count": 3,
   "id": "bea3d377",
   "metadata": {},
   "outputs": [],
   "source": [
    "query = open('sql/query_deputados_detalhes.sql','r').read()"
   ]
  },
  {
   "cell_type": "code",
   "execution_count": 4,
   "id": "7bb3d9fc",
   "metadata": {},
   "outputs": [],
   "source": [
    "df = pd.read_sql(query,con)"
   ]
  },
  {
   "cell_type": "code",
   "execution_count": 5,
   "id": "4ea18687",
   "metadata": {},
   "outputs": [
    {
     "data": {
      "text/html": [
       "<div>\n",
       "<style scoped>\n",
       "    .dataframe tbody tr th:only-of-type {\n",
       "        vertical-align: middle;\n",
       "    }\n",
       "\n",
       "    .dataframe tbody tr th {\n",
       "        vertical-align: top;\n",
       "    }\n",
       "\n",
       "    .dataframe thead th {\n",
       "        text-align: right;\n",
       "    }\n",
       "</style>\n",
       "<table border=\"1\" class=\"dataframe\">\n",
       "  <thead>\n",
       "    <tr style=\"text-align: right;\">\n",
       "      <th></th>\n",
       "      <th>id</th>\n",
       "      <th>nome</th>\n",
       "      <th>siglaPartido</th>\n",
       "      <th>siglaUf</th>\n",
       "      <th>dt_inicio_legslatuara</th>\n",
       "      <th>sexo</th>\n",
       "      <th>dataNascimento</th>\n",
       "      <th>ufNascimento</th>\n",
       "      <th>municipioNascimento</th>\n",
       "      <th>escolaridade</th>\n",
       "    </tr>\n",
       "  </thead>\n",
       "  <tbody>\n",
       "    <tr>\n",
       "      <th>0</th>\n",
       "      <td>107</td>\n",
       "      <td>AGUILAR</td>\n",
       "      <td>None</td>\n",
       "      <td>AL</td>\n",
       "      <td>1826-04-29</td>\n",
       "      <td>M</td>\n",
       "      <td>NaT</td>\n",
       "      <td>None</td>\n",
       "      <td>None</td>\n",
       "      <td>None</td>\n",
       "    </tr>\n",
       "    <tr>\n",
       "      <th>1</th>\n",
       "      <td>123</td>\n",
       "      <td>ALBUQUERQUE</td>\n",
       "      <td>None</td>\n",
       "      <td>CE</td>\n",
       "      <td>1826-04-29</td>\n",
       "      <td>M</td>\n",
       "      <td>NaT</td>\n",
       "      <td>None</td>\n",
       "      <td>None</td>\n",
       "      <td>None</td>\n",
       "    </tr>\n",
       "    <tr>\n",
       "      <th>2</th>\n",
       "      <td>30</td>\n",
       "      <td>ALMEIDA E ALBUQUERQUE</td>\n",
       "      <td>None</td>\n",
       "      <td>PE</td>\n",
       "      <td>1826-04-29</td>\n",
       "      <td>M</td>\n",
       "      <td>NaT</td>\n",
       "      <td>PE</td>\n",
       "      <td>Recife</td>\n",
       "      <td>None</td>\n",
       "    </tr>\n",
       "    <tr>\n",
       "      <th>3</th>\n",
       "      <td>76</td>\n",
       "      <td>ALMEIDA E CASTRO</td>\n",
       "      <td>None</td>\n",
       "      <td>PE</td>\n",
       "      <td>1826-04-29</td>\n",
       "      <td>M</td>\n",
       "      <td>NaT</td>\n",
       "      <td>RN</td>\n",
       "      <td>Natal</td>\n",
       "      <td>None</td>\n",
       "    </tr>\n",
       "    <tr>\n",
       "      <th>4</th>\n",
       "      <td>136</td>\n",
       "      <td>ALMEIDA TORRES</td>\n",
       "      <td>None</td>\n",
       "      <td>MG</td>\n",
       "      <td>1826-04-29</td>\n",
       "      <td>M</td>\n",
       "      <td>1799-01-01</td>\n",
       "      <td>BA</td>\n",
       "      <td>None</td>\n",
       "      <td>Superior</td>\n",
       "    </tr>\n",
       "  </tbody>\n",
       "</table>\n",
       "</div>"
      ],
      "text/plain": [
       "    id                   nome siglaPartido siglaUf dt_inicio_legslatuara sexo  \\\n",
       "0  107                AGUILAR         None      AL            1826-04-29    M   \n",
       "1  123            ALBUQUERQUE         None      CE            1826-04-29    M   \n",
       "2   30  ALMEIDA E ALBUQUERQUE         None      PE            1826-04-29    M   \n",
       "3   76       ALMEIDA E CASTRO         None      PE            1826-04-29    M   \n",
       "4  136         ALMEIDA TORRES         None      MG            1826-04-29    M   \n",
       "\n",
       "  dataNascimento ufNascimento municipioNascimento escolaridade  \n",
       "0            NaT         None                None         None  \n",
       "1            NaT         None                None         None  \n",
       "2            NaT           PE              Recife         None  \n",
       "3            NaT           RN               Natal         None  \n",
       "4     1799-01-01           BA                None     Superior  "
      ]
     },
     "execution_count": 5,
     "metadata": {},
     "output_type": "execute_result"
    }
   ],
   "source": [
    "df.head()"
   ]
  },
  {
   "cell_type": "code",
   "execution_count": 6,
   "id": "ab52426c",
   "metadata": {},
   "outputs": [],
   "source": [
    "df['dt_inicio_legslatuara'] = pd.to_datetime(df['dt_inicio_legslatuara'])"
   ]
  },
  {
   "cell_type": "code",
   "execution_count": 7,
   "id": "fdecedef",
   "metadata": {},
   "outputs": [],
   "source": [
    "df['idade_inicio_mandato'] = (((df['dt_inicio_legslatuara']-df['dataNascimento']).dt.days)/365).round()"
   ]
  },
  {
   "cell_type": "markdown",
   "id": "90cfaea0",
   "metadata": {},
   "source": [
    "## numero de mandatos "
   ]
  },
  {
   "cell_type": "code",
   "execution_count": 8,
   "id": "f59fc3f8",
   "metadata": {},
   "outputs": [
    {
     "data": {
      "text/plain": [
       "<AxesSubplot:xlabel='n_legislaturas', ylabel='Count'>"
      ]
     },
     "execution_count": 8,
     "metadata": {},
     "output_type": "execute_result"
    },
    {
     "data": {
      "image/png": "[encoded data removed]",
      "text/plain": [
       "<Figure size 432x288 with 1 Axes>"
      ]
     },
     "metadata": {
      "needs_background": "light"
     },
     "output_type": "display_data"
    }
   ],
   "source": [
    "df_count_legislaturas = df[['nome','dt_inicio_legslatuara']]\n",
    "df_count_legislaturas = df_count_legislaturas.groupby(['nome']).count().reset_index()\n",
    "df_count_legislaturas.rename(columns={'nome':'nome', 'dt_inicio_legslatuara':'n_legislaturas'}, inplace= True)\n",
    "sns.histplot(data=df_count_legislaturas,x='n_legislaturas',binwidth=1)"
   ]
  },
  {
   "cell_type": "markdown",
   "id": "c6d630aa",
   "metadata": {},
   "source": [
    "A maior parte dos deputados tem um unico mandato,  mas tem um grupo que tem um volume bem alto de mandatos "
   ]
  },
  {
   "cell_type": "code",
   "execution_count": 9,
   "id": "0b3a17c0",
   "metadata": {},
   "outputs": [
    {
     "data": {
      "text/plain": [
       "<AxesSubplot:ylabel='n_legislaturas'>"
      ]
     },
     "execution_count": 9,
     "metadata": {},
     "output_type": "execute_result"
    },
    {
     "data": {
      "image/png": "[encoded data removed]",
      "text/plain": [
       "<Figure size 432x288 with 1 Axes>"
      ]
     },
     "metadata": {
      "needs_background": "light"
     },
     "output_type": "display_data"
    }
   ],
   "source": [
    "sns.boxplot(data=df_count_legislaturas,y='n_legislaturas')"
   ]
  },
  {
   "cell_type": "markdown",
   "id": "9fb2c2c0",
   "metadata": {},
   "source": [
    "de fato são outlayers, vamos olhar eles mais de perto "
   ]
  },
  {
   "cell_type": "code",
   "execution_count": 10,
   "id": "f36d999a",
   "metadata": {},
   "outputs": [],
   "source": [
    "df_count_legislaturas['z_score'] = np.abs(stats.zscore(df_count_legislaturas['n_legislaturas']))"
   ]
  },
  {
   "cell_type": "markdown",
   "id": "190f4172",
   "metadata": {},
   "source": [
    "Calculo do z score. \n",
    "Z score é a distancia em disvios padroes entre o valor e a media dos valores e vamos considerar qualquer valor a cima de 3 desvios padroes como um outlayers "
   ]
  },
  {
   "cell_type": "code",
   "execution_count": 11,
   "id": "1a1391f0",
   "metadata": {},
   "outputs": [
    {
     "data": {
      "text/html": [
       "<div>\n",
       "<style scoped>\n",
       "    .dataframe tbody tr th:only-of-type {\n",
       "        vertical-align: middle;\n",
       "    }\n",
       "\n",
       "    .dataframe tbody tr th {\n",
       "        vertical-align: top;\n",
       "    }\n",
       "\n",
       "    .dataframe thead th {\n",
       "        text-align: right;\n",
       "    }\n",
       "</style>\n",
       "<table border=\"1\" class=\"dataframe\">\n",
       "  <thead>\n",
       "    <tr style=\"text-align: right;\">\n",
       "      <th></th>\n",
       "      <th>nome</th>\n",
       "      <th>n_legislaturas</th>\n",
       "      <th>z_score</th>\n",
       "      <th>n_legislaturas_outlier</th>\n",
       "    </tr>\n",
       "  </thead>\n",
       "  <tbody>\n",
       "    <tr>\n",
       "      <th>163</th>\n",
       "      <td>AGRIPINO AZEVEDO</td>\n",
       "      <td>8</td>\n",
       "      <td>3.622446</td>\n",
       "      <td>True</td>\n",
       "    </tr>\n",
       "    <tr>\n",
       "      <th>173</th>\n",
       "      <td>AIRES DA SILVA</td>\n",
       "      <td>7</td>\n",
       "      <td>3.011399</td>\n",
       "      <td>True</td>\n",
       "    </tr>\n",
       "    <tr>\n",
       "      <th>189</th>\n",
       "      <td>ALAIR FERREIRA</td>\n",
       "      <td>7</td>\n",
       "      <td>3.011399</td>\n",
       "      <td>True</td>\n",
       "    </tr>\n",
       "    <tr>\n",
       "      <th>192</th>\n",
       "      <td>ALAOR PRATA</td>\n",
       "      <td>7</td>\n",
       "      <td>3.011399</td>\n",
       "      <td>True</td>\n",
       "    </tr>\n",
       "    <tr>\n",
       "      <th>214</th>\n",
       "      <td>ALBERTO MARANHÃO</td>\n",
       "      <td>8</td>\n",
       "      <td>3.622446</td>\n",
       "      <td>True</td>\n",
       "    </tr>\n",
       "  </tbody>\n",
       "</table>\n",
       "</div>"
      ],
      "text/plain": [
       "                 nome  n_legislaturas   z_score  n_legislaturas_outlier\n",
       "163  AGRIPINO AZEVEDO               8  3.622446                    True\n",
       "173    AIRES DA SILVA               7  3.011399                    True\n",
       "189    ALAIR FERREIRA               7  3.011399                    True\n",
       "192       ALAOR PRATA               7  3.011399                    True\n",
       "214  ALBERTO MARANHÃO               8  3.622446                    True"
      ]
     },
     "execution_count": 11,
     "metadata": {},
     "output_type": "execute_result"
    }
   ],
   "source": [
    "df_count_legislaturas['n_legislaturas_outlier'] = df_count_legislaturas['z_score'].apply(lambda x: True if x > 3 else False)\n",
    "df_count_legislaturas[df_count_legislaturas['z_score']>3].head()"
   ]
  },
  {
   "cell_type": "markdown",
   "id": "db7a84eb",
   "metadata": {},
   "source": [
    "o z_score ja fez seu rebalho, por isso vou dropar a coluna "
   ]
  },
  {
   "cell_type": "code",
   "execution_count": 12,
   "id": "0c57bd42",
   "metadata": {},
   "outputs": [
    {
     "data": {
      "text/html": [
       "<div>\n",
       "<style scoped>\n",
       "    .dataframe tbody tr th:only-of-type {\n",
       "        vertical-align: middle;\n",
       "    }\n",
       "\n",
       "    .dataframe tbody tr th {\n",
       "        vertical-align: top;\n",
       "    }\n",
       "\n",
       "    .dataframe thead th {\n",
       "        text-align: right;\n",
       "    }\n",
       "</style>\n",
       "<table border=\"1\" class=\"dataframe\">\n",
       "  <thead>\n",
       "    <tr style=\"text-align: right;\">\n",
       "      <th></th>\n",
       "      <th>nome</th>\n",
       "      <th>n_legislaturas</th>\n",
       "      <th>n_legislaturas_outlier</th>\n",
       "    </tr>\n",
       "  </thead>\n",
       "  <tbody>\n",
       "    <tr>\n",
       "      <th>0</th>\n",
       "      <td>AARÃO REIS</td>\n",
       "      <td>3</td>\n",
       "      <td>False</td>\n",
       "    </tr>\n",
       "    <tr>\n",
       "      <th>1</th>\n",
       "      <td>AARÃO STEINBRUCH</td>\n",
       "      <td>3</td>\n",
       "      <td>False</td>\n",
       "    </tr>\n",
       "    <tr>\n",
       "      <th>2</th>\n",
       "      <td>ABDALLA JALLAD</td>\n",
       "      <td>1</td>\n",
       "      <td>False</td>\n",
       "    </tr>\n",
       "    <tr>\n",
       "      <th>3</th>\n",
       "      <td>ABDIAS NASCIMENTO</td>\n",
       "      <td>1</td>\n",
       "      <td>False</td>\n",
       "    </tr>\n",
       "    <tr>\n",
       "      <th>4</th>\n",
       "      <td>ABDON BATISTA</td>\n",
       "      <td>4</td>\n",
       "      <td>False</td>\n",
       "    </tr>\n",
       "  </tbody>\n",
       "</table>\n",
       "</div>"
      ],
      "text/plain": [
       "                nome  n_legislaturas  n_legislaturas_outlier\n",
       "0         AARÃO REIS               3                   False\n",
       "1   AARÃO STEINBRUCH               3                   False\n",
       "2     ABDALLA JALLAD               1                   False\n",
       "3  ABDIAS NASCIMENTO               1                   False\n",
       "4      ABDON BATISTA               4                   False"
      ]
     },
     "execution_count": 12,
     "metadata": {},
     "output_type": "execute_result"
    }
   ],
   "source": [
    "df_count_legislaturas.drop('z_score',axis='columns', inplace=True)\n",
    "df_count_legislaturas.head()"
   ]
  },
  {
   "cell_type": "code",
   "execution_count": 13,
   "id": "b95b7f5d",
   "metadata": {},
   "outputs": [
    {
     "data": {
      "text/html": [
       "<div>\n",
       "<style scoped>\n",
       "    .dataframe tbody tr th:only-of-type {\n",
       "        vertical-align: middle;\n",
       "    }\n",
       "\n",
       "    .dataframe tbody tr th {\n",
       "        vertical-align: top;\n",
       "    }\n",
       "\n",
       "    .dataframe thead th {\n",
       "        text-align: right;\n",
       "    }\n",
       "</style>\n",
       "<table border=\"1\" class=\"dataframe\">\n",
       "  <thead>\n",
       "    <tr style=\"text-align: right;\">\n",
       "      <th></th>\n",
       "      <th>id</th>\n",
       "      <th>nome</th>\n",
       "      <th>siglaPartido</th>\n",
       "      <th>siglaUf</th>\n",
       "      <th>dt_inicio_legslatuara</th>\n",
       "      <th>sexo</th>\n",
       "      <th>dataNascimento</th>\n",
       "      <th>ufNascimento</th>\n",
       "      <th>municipioNascimento</th>\n",
       "      <th>escolaridade</th>\n",
       "      <th>idade_inicio_mandato</th>\n",
       "      <th>n_legislaturas</th>\n",
       "      <th>n_legislaturas_outlier</th>\n",
       "    </tr>\n",
       "  </thead>\n",
       "  <tbody>\n",
       "    <tr>\n",
       "      <th>0</th>\n",
       "      <td>107</td>\n",
       "      <td>AGUILAR</td>\n",
       "      <td>None</td>\n",
       "      <td>AL</td>\n",
       "      <td>1826-04-29</td>\n",
       "      <td>M</td>\n",
       "      <td>NaT</td>\n",
       "      <td>None</td>\n",
       "      <td>None</td>\n",
       "      <td>None</td>\n",
       "      <td>NaN</td>\n",
       "      <td>1</td>\n",
       "      <td>False</td>\n",
       "    </tr>\n",
       "    <tr>\n",
       "      <th>1</th>\n",
       "      <td>123</td>\n",
       "      <td>ALBUQUERQUE</td>\n",
       "      <td>None</td>\n",
       "      <td>CE</td>\n",
       "      <td>1826-04-29</td>\n",
       "      <td>M</td>\n",
       "      <td>NaT</td>\n",
       "      <td>None</td>\n",
       "      <td>None</td>\n",
       "      <td>None</td>\n",
       "      <td>NaN</td>\n",
       "      <td>3</td>\n",
       "      <td>False</td>\n",
       "    </tr>\n",
       "    <tr>\n",
       "      <th>2</th>\n",
       "      <td>30</td>\n",
       "      <td>ALMEIDA E ALBUQUERQUE</td>\n",
       "      <td>None</td>\n",
       "      <td>PE</td>\n",
       "      <td>1826-04-29</td>\n",
       "      <td>M</td>\n",
       "      <td>NaT</td>\n",
       "      <td>PE</td>\n",
       "      <td>Recife</td>\n",
       "      <td>None</td>\n",
       "      <td>NaN</td>\n",
       "      <td>4</td>\n",
       "      <td>False</td>\n",
       "    </tr>\n",
       "    <tr>\n",
       "      <th>3</th>\n",
       "      <td>76</td>\n",
       "      <td>ALMEIDA E CASTRO</td>\n",
       "      <td>None</td>\n",
       "      <td>PE</td>\n",
       "      <td>1826-04-29</td>\n",
       "      <td>M</td>\n",
       "      <td>NaT</td>\n",
       "      <td>RN</td>\n",
       "      <td>Natal</td>\n",
       "      <td>None</td>\n",
       "      <td>NaN</td>\n",
       "      <td>1</td>\n",
       "      <td>False</td>\n",
       "    </tr>\n",
       "    <tr>\n",
       "      <th>4</th>\n",
       "      <td>136</td>\n",
       "      <td>ALMEIDA TORRES</td>\n",
       "      <td>None</td>\n",
       "      <td>MG</td>\n",
       "      <td>1826-04-29</td>\n",
       "      <td>M</td>\n",
       "      <td>1799-01-01</td>\n",
       "      <td>BA</td>\n",
       "      <td>None</td>\n",
       "      <td>Superior</td>\n",
       "      <td>27.0</td>\n",
       "      <td>4</td>\n",
       "      <td>False</td>\n",
       "    </tr>\n",
       "  </tbody>\n",
       "</table>\n",
       "</div>"
      ],
      "text/plain": [
       "    id                   nome siglaPartido siglaUf dt_inicio_legslatuara sexo  \\\n",
       "0  107                AGUILAR         None      AL            1826-04-29    M   \n",
       "1  123            ALBUQUERQUE         None      CE            1826-04-29    M   \n",
       "2   30  ALMEIDA E ALBUQUERQUE         None      PE            1826-04-29    M   \n",
       "3   76       ALMEIDA E CASTRO         None      PE            1826-04-29    M   \n",
       "4  136         ALMEIDA TORRES         None      MG            1826-04-29    M   \n",
       "\n",
       "  dataNascimento ufNascimento municipioNascimento escolaridade  \\\n",
       "0            NaT         None                None         None   \n",
       "1            NaT         None                None         None   \n",
       "2            NaT           PE              Recife         None   \n",
       "3            NaT           RN               Natal         None   \n",
       "4     1799-01-01           BA                None     Superior   \n",
       "\n",
       "   idade_inicio_mandato  n_legislaturas  n_legislaturas_outlier  \n",
       "0                   NaN               1                   False  \n",
       "1                   NaN               3                   False  \n",
       "2                   NaN               4                   False  \n",
       "3                   NaN               1                   False  \n",
       "4                  27.0               4                   False  "
      ]
     },
     "execution_count": 13,
     "metadata": {},
     "output_type": "execute_result"
    }
   ],
   "source": [
    "df = pd.merge(df,df_count_legislaturas,on='nome',how='left')\n",
    "df.head()"
   ]
  },
  {
   "cell_type": "markdown",
   "id": "46170309",
   "metadata": {},
   "source": [
    "Aqui eu altero meu dataset inicial para incluir a definição de outlayers "
   ]
  },
  {
   "cell_type": "code",
   "execution_count": 14,
   "id": "ab238300",
   "metadata": {},
   "outputs": [
    {
     "data": {
      "image/png": "[encoded data removed]",
      "text/plain": [
       "<Figure size 432x288 with 1 Axes>"
      ]
     },
     "metadata": {
      "needs_background": "light"
     },
     "output_type": "display_data"
    }
   ],
   "source": [
    "ax = sns.countplot(x='dt_inicio_legslatuara',\n",
    "                   data=df[(df['n_legislaturas_outlier']==True) & (df['dt_inicio_legslatuara']>= dt.datetime(1900,1,1)) ],\n",
    "                  palette='Blues')\n",
    "ax.tick_params(axis='x', rotation=90)"
   ]
  },
  {
   "cell_type": "markdown",
   "id": "1cb2173a",
   "metadata": {},
   "source": [
    "Se a gente plotar o numero de outlayers por legislatura, de fato vemos uma queda brusca no volume de outlayers, o que aponta para uma renovação na camara de deputados. "
   ]
  },
  {
   "cell_type": "markdown",
   "id": "8d2d3849",
   "metadata": {},
   "source": [
    "## Qual é o grau de escolaridade dos deputados ? \n",
    "\n",
    "Para essa resposta vamos comessar tratando os dados. Dentro do campo escolaridade temos varias entrada que podem ser agrupadas em basico, medio, superior e pos graduados. "
   ]
  },
  {
   "cell_type": "code",
   "execution_count": 15,
   "id": "be7385a6",
   "metadata": {},
   "outputs": [],
   "source": [
    "def grup_educacional(grau_escolaridade):\n",
    "    basico = ['Primário Incompleto','Primário','Ginasial','Ensino Fundamental']\n",
    "    medio = ['Ensino Médio Incompleto','Ensino Médio','Secundário','Secundário Incompleto','Ensino Técnico']\n",
    "    superior = ['Superior Incompleto','Superior']\n",
    "    pos_graduado = ['Pós-Graduação','Mestrado Incompleto','Mestrado','Doutorado Incompleto','Doutorado']\n",
    "    if grau_escolaridade == None :\n",
    "        return 'Nao Informado'\n",
    "    elif grau_escolaridade in basico:\n",
    "        return 'Ensino Fundamental'\n",
    "    elif grau_escolaridade in medio:\n",
    "        return 'Ensino Medio'\n",
    "    elif grau_escolaridade in superior:\n",
    "        return 'Ensino Superior'\n",
    "    elif grau_escolaridade in pos_graduado:\n",
    "        return 'Pos Graduacao'\n",
    "    else:\n",
    "        return None\n",
    "    \n",
    "df['grupo_escolaridade'] = df.escolaridade.apply(lambda x: grup_educacional(x))"
   ]
  },
  {
   "cell_type": "code",
   "execution_count": 16,
   "id": "8c753322",
   "metadata": {},
   "outputs": [
    {
     "data": {
      "text/plain": [
       "<AxesSubplot:xlabel='grupo_escolaridade', ylabel='count'>"
      ]
     },
     "execution_count": 16,
     "metadata": {},
     "output_type": "execute_result"
    },
    {
     "data": {
      "image/png": "[encoded data removed]",
      "text/plain": [
       "<Figure size 432x288 with 1 Axes>"
      ]
     },
     "metadata": {
      "needs_background": "light"
     },
     "output_type": "display_data"
    }
   ],
   "source": [
    "sns.countplot(data=df[df['dt_inicio_legslatuara'] >= dt.datetime(2019,1,1)],x='grupo_escolaridade')"
   ]
  },
  {
   "cell_type": "markdown",
   "id": "e43dcbe3",
   "metadata": {},
   "source": [
    "Quando olhamos para o mandato atual, vemos um percentual de deptados com ensino superior completo, \n",
    "seguido logo depois pelos deputados pos graduados."
   ]
  },
  {
   "cell_type": "code",
   "execution_count": 17,
   "id": "f1078b39",
   "metadata": {},
   "outputs": [
    {
     "data": {
      "text/plain": [
       "<AxesSubplot:xlabel='dt_inicio_legslatuara', ylabel='count'>"
      ]
     },
     "execution_count": 17,
     "metadata": {},
     "output_type": "execute_result"
    },
    {
     "data": {
      "image/png": "[encoded data removed]",
      "text/plain": [
       "<Figure size 432x288 with 1 Axes>"
      ]
     },
     "metadata": {
      "needs_background": "light"
     },
     "output_type": "display_data"
    }
   ],
   "source": [
    "x = df[['dt_inicio_legslatuara','grupo_escolaridade']].groupby(['dt_inicio_legslatuara','grupo_escolaridade']).size().reset_index(name='count')\n",
    "sns.lineplot(data =x[x['dt_inicio_legslatuara'] >= dt.datetime(2000,1,1)], x='dt_inicio_legslatuara',y='count',hue='grupo_escolaridade')"
   ]
  },
  {
   "cell_type": "markdown",
   "id": "a50b0922",
   "metadata": {},
   "source": [
    "Interçante, temos uma queda no numero de deputados com encino superior, ao mesmo tempo que temos um almento do numero com pos graduação ou mais. (sera que esse numero segue o da população ???)\n",
    "\n",
    "Outro ponto é um volume constante de deputados com encino basico ou com o ensino medio.  "
   ]
  },
  {
   "cell_type": "markdown",
   "id": "7b9df955",
   "metadata": {},
   "source": [
    "## idade dos deutados "
   ]
  },
  {
   "cell_type": "code",
   "execution_count": 18,
   "id": "dfa7abec",
   "metadata": {},
   "outputs": [
    {
     "data": {
      "text/plain": [
       "<AxesSubplot:>"
      ]
     },
     "execution_count": 18,
     "metadata": {},
     "output_type": "execute_result"
    },
    {
     "data": {
      "image/png": "[encoded data removed]",
      "text/plain": [
       "<Figure size 432x288 with 1 Axes>"
      ]
     },
     "metadata": {
      "needs_background": "light"
     },
     "output_type": "display_data"
    }
   ],
   "source": [
    "df[df['idade_inicio_mandato']>0].idade_inicio_mandato.hist(bins=50)"
   ]
  },
  {
   "cell_type": "markdown",
   "id": "d142033d",
   "metadata": {},
   "source": [
    "Intereçante, essa destribuição aparenta ser uma normal. \n",
    "vamos faser um teste de normalidade. "
   ]
  },
  {
   "cell_type": "code",
   "execution_count": 19,
   "id": "2438703b",
   "metadata": {},
   "outputs": [
    {
     "data": {
      "image/png": "[encoded data removed]",
      "text/plain": [
       "<Figure size 432x288 with 1 Axes>"
      ]
     },
     "execution_count": 19,
     "metadata": {},
     "output_type": "execute_result"
    },
    {
     "data": {
      "image/png": "[encoded data removed]",
      "text/plain": [
       "<Figure size 432x288 with 1 Axes>"
      ]
     },
     "metadata": {
      "needs_background": "light"
     },
     "output_type": "display_data"
    }
   ],
   "source": [
    "qqplot(df[df['idade_inicio_mandato']>0].idade_inicio_mandato,line='s')"
   ]
  },
  {
   "cell_type": "markdown",
   "id": "bca8e286",
   "metadata": {},
   "source": [
    "Isso é um grafico Quantile-Quantile ele plota os valores reais da sua distribuição verços os valores de uma distribuição idealisada. sendo assim uma curva normal deveria se aproximar de uma uma linha a 45' do eixo x, essa distribuição se aproxima de uma normal. nesse caso temos uma distribuição que aparenta ser uma normal \n",
    "\n",
    "Mas por desencargo de conciencia (e querer aprender mais), vamos aplicar um outro teste não visual. "
   ]
  },
  {
   "cell_type": "markdown",
   "id": "1b02df83",
   "metadata": {},
   "source": [
    "No caso vamos utilizar o metodo D’Agostino’s k^2. \n",
    "\n",
    "Esse teste retorna 3 valores, p , Skew e Kurtosis, sendo o p o valor que nos aponta o grau de confiança na hipotese nula (h0), no caso se a nossa distribuição é uma curva normal. \n",
    "\n",
    "Skew nos aponta o quão deslocada para direita ou para a esquerda esta nossa distribuição, é uma medida de assimetria da distribuição. \n",
    "\n",
    "Kurtosis mede i quanto da nossa distribuição esta nas caldas da distribuição "
   ]
  },
  {
   "cell_type": "code",
   "execution_count": 20,
   "id": "828d6fd2",
   "metadata": {},
   "outputs": [
    {
     "name": "stdout",
     "output_type": "stream",
     "text": [
      "Statistics=37.215, p=0.0000000083\n",
      "Sample does not look Gaussian (reject H0)\n"
     ]
    }
   ],
   "source": [
    "stat, p = stats.normaltest(df[df['idade_inicio_mandato']>0].idade_inicio_mandato)\n",
    "print('Statistics=%.3f, p=%.10f' % (stat, p))\n",
    "# interpret\n",
    "alpha = 0.05\n",
    "if p > alpha:\n",
    "\tprint('Sample looks Gaussian (fail to reject H0)')\n",
    "else:\n",
    "\tprint('Sample does not look Gaussian (reject H0)')"
   ]
  },
  {
   "cell_type": "code",
   "execution_count": 21,
   "id": "76a81508",
   "metadata": {},
   "outputs": [
    {
     "data": {
      "text/plain": [
       "0.19658141838611068"
      ]
     },
     "execution_count": 21,
     "metadata": {},
     "output_type": "execute_result"
    }
   ],
   "source": [
    "stats.skew(df[df['idade_inicio_mandato']>0].idade_inicio_mandato)"
   ]
  },
  {
   "cell_type": "markdown",
   "id": "82747cbc",
   "metadata": {},
   "source": [
    "aparentimente, a distribuição tem toda a cara de uma distribuição normal, mas o skew aponta para qeue ela não seja. \n",
    "\n",
    "alguns fatores que podem estar contribuindo para isso: \n",
    "\n",
    "1) temos uma calda no lado direito da distribução, que puxa a media para cima. isso acontece por causa da existencia de idade minima de 21 ano para se candidatar, ou sejam, a distribuição fica enviesada para o lado direito, tranformando ela em uma distribução não normal. \n",
    "\n",
    "2) temos uma quebra na distribução proximo aos 40 e proximo aos 50, isso pode tambem impactar em como os testes vem a distribuição. \n"
   ]
  },
  {
   "cell_type": "markdown",
   "id": "d2f4a26e",
   "metadata": {},
   "source": [
    "## Qual é o sexo dos deputados ?\n",
    "\n",
    "Antes de comessar vamos agrupar os dados por legislatura e sexo. "
   ]
  },
  {
   "cell_type": "code",
   "execution_count": 22,
   "id": "04375bdf",
   "metadata": {},
   "outputs": [
    {
     "data": {
      "text/html": [
       "<div>\n",
       "<style scoped>\n",
       "    .dataframe tbody tr th:only-of-type {\n",
       "        vertical-align: middle;\n",
       "    }\n",
       "\n",
       "    .dataframe tbody tr th {\n",
       "        vertical-align: top;\n",
       "    }\n",
       "\n",
       "    .dataframe thead th {\n",
       "        text-align: right;\n",
       "    }\n",
       "</style>\n",
       "<table border=\"1\" class=\"dataframe\">\n",
       "  <thead>\n",
       "    <tr style=\"text-align: right;\">\n",
       "      <th></th>\n",
       "      <th>dt_inicio_legslatuara</th>\n",
       "      <th>sexo</th>\n",
       "      <th>count</th>\n",
       "    </tr>\n",
       "  </thead>\n",
       "  <tbody>\n",
       "    <tr>\n",
       "      <th>74</th>\n",
       "      <td>2019-02-01</td>\n",
       "      <td>M</td>\n",
       "      <td>503</td>\n",
       "    </tr>\n",
       "    <tr>\n",
       "      <th>73</th>\n",
       "      <td>2019-02-01</td>\n",
       "      <td>F</td>\n",
       "      <td>86</td>\n",
       "    </tr>\n",
       "    <tr>\n",
       "      <th>72</th>\n",
       "      <td>2015-02-01</td>\n",
       "      <td>M</td>\n",
       "      <td>567</td>\n",
       "    </tr>\n",
       "    <tr>\n",
       "      <th>71</th>\n",
       "      <td>2015-02-01</td>\n",
       "      <td>F</td>\n",
       "      <td>66</td>\n",
       "    </tr>\n",
       "    <tr>\n",
       "      <th>70</th>\n",
       "      <td>2011-02-01</td>\n",
       "      <td>M</td>\n",
       "      <td>611</td>\n",
       "    </tr>\n",
       "  </tbody>\n",
       "</table>\n",
       "</div>"
      ],
      "text/plain": [
       "   dt_inicio_legslatuara sexo  count\n",
       "74            2019-02-01    M    503\n",
       "73            2019-02-01    F     86\n",
       "72            2015-02-01    M    567\n",
       "71            2015-02-01    F     66\n",
       "70            2011-02-01    M    611"
      ]
     },
     "execution_count": 22,
     "metadata": {},
     "output_type": "execute_result"
    }
   ],
   "source": [
    "df_sexo = df[['dt_inicio_legslatuara','sexo']].groupby(['dt_inicio_legslatuara','sexo']).size().reset_index(name='count').sort_values(['dt_inicio_legslatuara'],ascending=False)\n",
    "df_sexo.head()"
   ]
  },
  {
   "cell_type": "code",
   "execution_count": 23,
   "id": "e5a8a29a",
   "metadata": {},
   "outputs": [
    {
     "data": {
      "text/plain": [
       "[Text(0, 0.5, 'Volume de deputados'),\n",
       " Text(0.5, 0, 'Data de inicio da legislatura')]"
      ]
     },
     "execution_count": 23,
     "metadata": {},
     "output_type": "execute_result"
    },
    {
     "data": {
      "image/png": "[encoded data removed]",
      "text/plain": [
       "<Figure size 432x288 with 1 Axes>"
      ]
     },
     "metadata": {
      "needs_background": "light"
     },
     "output_type": "display_data"
    }
   ],
   "source": [
    "ax = sns.lineplot(data =df_sexo[df_sexo['dt_inicio_legslatuara'] >= dt.datetime(2000,1,1)], x='dt_inicio_legslatuara',y='count',hue='sexo')\n",
    "ax.set_title('Volume de deputados por sexo por legislatura')\n",
    "ax.set(ylabel='Volume de deputados', xlabel= 'Data de inicio da legislatura')"
   ]
  },
  {
   "cell_type": "markdown",
   "id": "83cff5fb",
   "metadata": {},
   "source": [
    "quando olhamos para a distribuição dos sexos na camara dos deputados, vemos um vies muito forte para o lado maculino, sendo que a primeira mulher a se tornar depurada só aconteceu em 1934 e levamos até 1987 para passarmos 10 mulhers com legislaturas ao mesmo tempo. \n",
    "\n",
    "atualmente a situaçãio não é tão melhor, só temos 86 deputadas que representam 14,6% das cadeiras. \n",
    "considerando que mulhares são 51,8% da população nacional segundo a PNAD de 2019, temos um claro problema de representatividade desse publico. \n",
    "\n",
    "vale resaltar, nessa analise não consideramos o volume de pessoas lgbtqia+ nessa analise, pois não temos esse dado nessa base de dados. "
   ]
  },
  {
   "cell_type": "markdown",
   "id": "2dba0506",
   "metadata": {},
   "source": [
    "## Eles representam os estados em que eles nasceram ?\n",
    "\n",
    "Para isso vamos agrupar os dados "
   ]
  },
  {
   "cell_type": "code",
   "execution_count": 24,
   "id": "c60f3586",
   "metadata": {},
   "outputs": [
    {
     "data": {
      "text/html": [
       "<div>\n",
       "<style scoped>\n",
       "    .dataframe tbody tr th:only-of-type {\n",
       "        vertical-align: middle;\n",
       "    }\n",
       "\n",
       "    .dataframe tbody tr th {\n",
       "        vertical-align: top;\n",
       "    }\n",
       "\n",
       "    .dataframe thead th {\n",
       "        text-align: right;\n",
       "    }\n",
       "</style>\n",
       "<table border=\"1\" class=\"dataframe\">\n",
       "  <thead>\n",
       "    <tr style=\"text-align: right;\">\n",
       "      <th></th>\n",
       "      <th>nome</th>\n",
       "      <th>distinct_uf</th>\n",
       "    </tr>\n",
       "  </thead>\n",
       "  <tbody>\n",
       "    <tr>\n",
       "      <th>0</th>\n",
       "      <td>AARÃO REIS</td>\n",
       "      <td>1</td>\n",
       "    </tr>\n",
       "    <tr>\n",
       "      <th>1</th>\n",
       "      <td>AARÃO STEINBRUCH</td>\n",
       "      <td>1</td>\n",
       "    </tr>\n",
       "    <tr>\n",
       "      <th>2</th>\n",
       "      <td>ABDALLA JALLAD</td>\n",
       "      <td>1</td>\n",
       "    </tr>\n",
       "    <tr>\n",
       "      <th>3</th>\n",
       "      <td>ABDIAS NASCIMENTO</td>\n",
       "      <td>1</td>\n",
       "    </tr>\n",
       "    <tr>\n",
       "      <th>4</th>\n",
       "      <td>ABDON BATISTA</td>\n",
       "      <td>1</td>\n",
       "    </tr>\n",
       "  </tbody>\n",
       "</table>\n",
       "</div>"
      ],
      "text/plain": [
       "                nome  distinct_uf\n",
       "0         AARÃO REIS            1\n",
       "1   AARÃO STEINBRUCH            1\n",
       "2     ABDALLA JALLAD            1\n",
       "3  ABDIAS NASCIMENTO            1\n",
       "4      ABDON BATISTA            1"
      ]
     },
     "execution_count": 24,
     "metadata": {},
     "output_type": "execute_result"
    }
   ],
   "source": [
    "df_uf = df[['nome','siglaUf']].groupby(['nome']).siglaUf.nunique().reset_index(name='distinct_uf')\n",
    "df_uf.head()"
   ]
  },
  {
   "cell_type": "code",
   "execution_count": 25,
   "id": "f9da9de3",
   "metadata": {},
   "outputs": [
    {
     "data": {
      "text/plain": [
       "<AxesSubplot:xlabel='distinct_uf', ylabel='count'>"
      ]
     },
     "execution_count": 25,
     "metadata": {},
     "output_type": "execute_result"
    },
    {
     "data": {
      "image/png": "[encoded data removed]",
      "text/plain": [
       "<Figure size 432x288 with 1 Axes>"
      ]
     },
     "metadata": {
      "needs_background": "light"
     },
     "output_type": "display_data"
    }
   ],
   "source": [
    "sns.countplot(data=df_uf,x='distinct_uf')"
   ]
  },
  {
   "cell_type": "markdown",
   "id": "3eafb776",
   "metadata": {},
   "source": [
    "apaentimente os deputados sempre representam apenas um estado, com proporcionamente poucas exeçoes que mudam de estados. \n",
    "vamos olhara para elas "
   ]
  },
  {
   "cell_type": "code",
   "execution_count": 26,
   "id": "c29757c2",
   "metadata": {},
   "outputs": [
    {
     "data": {
      "text/html": [
       "<div>\n",
       "<style scoped>\n",
       "    .dataframe tbody tr th:only-of-type {\n",
       "        vertical-align: middle;\n",
       "    }\n",
       "\n",
       "    .dataframe tbody tr th {\n",
       "        vertical-align: top;\n",
       "    }\n",
       "\n",
       "    .dataframe thead th {\n",
       "        text-align: right;\n",
       "    }\n",
       "</style>\n",
       "<table border=\"1\" class=\"dataframe\">\n",
       "  <thead>\n",
       "    <tr style=\"text-align: right;\">\n",
       "      <th></th>\n",
       "      <th>nome</th>\n",
       "      <th>distinct_uf</th>\n",
       "    </tr>\n",
       "  </thead>\n",
       "  <tbody>\n",
       "    <tr>\n",
       "      <th>346</th>\n",
       "      <td>ALMEIDA TORRES</td>\n",
       "      <td>4</td>\n",
       "    </tr>\n",
       "    <tr>\n",
       "      <th>348</th>\n",
       "      <td>ALMINO AFFONSO</td>\n",
       "      <td>3</td>\n",
       "    </tr>\n",
       "    <tr>\n",
       "      <th>448</th>\n",
       "      <td>AMÉRICO DE SOUZA</td>\n",
       "      <td>3</td>\n",
       "    </tr>\n",
       "    <tr>\n",
       "      <th>545</th>\n",
       "      <td>ANTONIO CARLOS</td>\n",
       "      <td>3</td>\n",
       "    </tr>\n",
       "    <tr>\n",
       "      <th>614</th>\n",
       "      <td>ANTÔNIO CARLOS</td>\n",
       "      <td>3</td>\n",
       "    </tr>\n",
       "    <tr>\n",
       "      <th>708</th>\n",
       "      <td>ARAÚJO LIMA</td>\n",
       "      <td>3</td>\n",
       "    </tr>\n",
       "    <tr>\n",
       "      <th>1035</th>\n",
       "      <td>BARBOSA LIMA</td>\n",
       "      <td>4</td>\n",
       "    </tr>\n",
       "    <tr>\n",
       "      <th>1120</th>\n",
       "      <td>BATISTA PEREIRA</td>\n",
       "      <td>3</td>\n",
       "    </tr>\n",
       "    <tr>\n",
       "      <th>1165</th>\n",
       "      <td>BENJAMIM FARAH</td>\n",
       "      <td>3</td>\n",
       "    </tr>\n",
       "    <tr>\n",
       "      <th>1216</th>\n",
       "      <td>BEZERRA DE MELO</td>\n",
       "      <td>3</td>\n",
       "    </tr>\n",
       "    <tr>\n",
       "      <th>1395</th>\n",
       "      <td>CARDOSO DE MENEZES</td>\n",
       "      <td>3</td>\n",
       "    </tr>\n",
       "    <tr>\n",
       "      <th>1406</th>\n",
       "      <td>CARLOS ALBERTO</td>\n",
       "      <td>3</td>\n",
       "    </tr>\n",
       "    <tr>\n",
       "      <th>1445</th>\n",
       "      <td>CARLOS GOMES</td>\n",
       "      <td>3</td>\n",
       "    </tr>\n",
       "    <tr>\n",
       "      <th>1540</th>\n",
       "      <td>CARVALHO NETO</td>\n",
       "      <td>3</td>\n",
       "    </tr>\n",
       "    <tr>\n",
       "      <th>1556</th>\n",
       "      <td>CASTELO BRANCO</td>\n",
       "      <td>4</td>\n",
       "    </tr>\n",
       "    <tr>\n",
       "      <th>1803</th>\n",
       "      <td>COSTA PINTO</td>\n",
       "      <td>3</td>\n",
       "    </tr>\n",
       "    <tr>\n",
       "      <th>2715</th>\n",
       "      <td>FERNANDO MAGALHÃES</td>\n",
       "      <td>3</td>\n",
       "    </tr>\n",
       "    <tr>\n",
       "      <th>2761</th>\n",
       "      <td>FERREIRA PENA</td>\n",
       "      <td>3</td>\n",
       "    </tr>\n",
       "    <tr>\n",
       "      <th>2779</th>\n",
       "      <td>FIGUEIREDO</td>\n",
       "      <td>3</td>\n",
       "    </tr>\n",
       "    <tr>\n",
       "      <th>2964</th>\n",
       "      <td>FREITAS</td>\n",
       "      <td>3</td>\n",
       "    </tr>\n",
       "    <tr>\n",
       "      <th>3071</th>\n",
       "      <td>GARCIA DE ALMEIDA</td>\n",
       "      <td>3</td>\n",
       "    </tr>\n",
       "    <tr>\n",
       "      <th>3918</th>\n",
       "      <td>JOSÉ ALVES</td>\n",
       "      <td>3</td>\n",
       "    </tr>\n",
       "    <tr>\n",
       "      <th>3956</th>\n",
       "      <td>JOSÉ CARLOS</td>\n",
       "      <td>3</td>\n",
       "    </tr>\n",
       "    <tr>\n",
       "      <th>4177</th>\n",
       "      <td>JOÃO BATISTA</td>\n",
       "      <td>3</td>\n",
       "    </tr>\n",
       "    <tr>\n",
       "      <th>4241</th>\n",
       "      <td>JOÃO HENRIQUE</td>\n",
       "      <td>3</td>\n",
       "    </tr>\n",
       "    <tr>\n",
       "      <th>4269</th>\n",
       "      <td>JOÃO MENDES</td>\n",
       "      <td>4</td>\n",
       "    </tr>\n",
       "    <tr>\n",
       "      <th>4279</th>\n",
       "      <td>JOÃO PAULO</td>\n",
       "      <td>3</td>\n",
       "    </tr>\n",
       "    <tr>\n",
       "      <th>4454</th>\n",
       "      <td>LACERDA WERNECK</td>\n",
       "      <td>3</td>\n",
       "    </tr>\n",
       "    <tr>\n",
       "      <th>4588</th>\n",
       "      <td>LIMA E SILVA</td>\n",
       "      <td>3</td>\n",
       "    </tr>\n",
       "    <tr>\n",
       "      <th>4635</th>\n",
       "      <td>LOPES GAMA</td>\n",
       "      <td>3</td>\n",
       "    </tr>\n",
       "    <tr>\n",
       "      <th>4712</th>\n",
       "      <td>LUIZ CARLOS</td>\n",
       "      <td>3</td>\n",
       "    </tr>\n",
       "    <tr>\n",
       "      <th>4884</th>\n",
       "      <td>MACEDO</td>\n",
       "      <td>4</td>\n",
       "    </tr>\n",
       "    <tr>\n",
       "      <th>5249</th>\n",
       "      <td>MELO MATOS</td>\n",
       "      <td>4</td>\n",
       "    </tr>\n",
       "    <tr>\n",
       "      <th>5600</th>\n",
       "      <td>NELSON CARNEIRO</td>\n",
       "      <td>3</td>\n",
       "    </tr>\n",
       "    <tr>\n",
       "      <th>5686</th>\n",
       "      <td>NINA RIBEIRO</td>\n",
       "      <td>3</td>\n",
       "    </tr>\n",
       "    <tr>\n",
       "      <th>5766</th>\n",
       "      <td>ODILON BRAGA</td>\n",
       "      <td>3</td>\n",
       "    </tr>\n",
       "    <tr>\n",
       "      <th>5981</th>\n",
       "      <td>PAES BARRETO</td>\n",
       "      <td>3</td>\n",
       "    </tr>\n",
       "    <tr>\n",
       "      <th>6003</th>\n",
       "      <td>PARANHOS</td>\n",
       "      <td>5</td>\n",
       "    </tr>\n",
       "    <tr>\n",
       "      <th>6167</th>\n",
       "      <td>PEDREIRA</td>\n",
       "      <td>3</td>\n",
       "    </tr>\n",
       "    <tr>\n",
       "      <th>6287</th>\n",
       "      <td>PEREIRA LIMA</td>\n",
       "      <td>3</td>\n",
       "    </tr>\n",
       "    <tr>\n",
       "      <th>6324</th>\n",
       "      <td>PINHEIRO MACHADO</td>\n",
       "      <td>3</td>\n",
       "    </tr>\n",
       "    <tr>\n",
       "      <th>6708</th>\n",
       "      <td>ROCHA</td>\n",
       "      <td>3</td>\n",
       "    </tr>\n",
       "    <tr>\n",
       "      <th>6943</th>\n",
       "      <td>SALDANHA MARINHO</td>\n",
       "      <td>3</td>\n",
       "    </tr>\n",
       "    <tr>\n",
       "      <th>7843</th>\n",
       "      <td>WILSON CUNHA</td>\n",
       "      <td>3</td>\n",
       "    </tr>\n",
       "    <tr>\n",
       "      <th>7891</th>\n",
       "      <td>ZACARIAS</td>\n",
       "      <td>3</td>\n",
       "    </tr>\n",
       "  </tbody>\n",
       "</table>\n",
       "</div>"
      ],
      "text/plain": [
       "                    nome  distinct_uf\n",
       "346       ALMEIDA TORRES            4\n",
       "348       ALMINO AFFONSO            3\n",
       "448     AMÉRICO DE SOUZA            3\n",
       "545       ANTONIO CARLOS            3\n",
       "614       ANTÔNIO CARLOS            3\n",
       "708          ARAÚJO LIMA            3\n",
       "1035        BARBOSA LIMA            4\n",
       "1120     BATISTA PEREIRA            3\n",
       "1165      BENJAMIM FARAH            3\n",
       "1216     BEZERRA DE MELO            3\n",
       "1395  CARDOSO DE MENEZES            3\n",
       "1406      CARLOS ALBERTO            3\n",
       "1445        CARLOS GOMES            3\n",
       "1540       CARVALHO NETO            3\n",
       "1556      CASTELO BRANCO            4\n",
       "1803         COSTA PINTO            3\n",
       "2715  FERNANDO MAGALHÃES            3\n",
       "2761       FERREIRA PENA            3\n",
       "2779          FIGUEIREDO            3\n",
       "2964             FREITAS            3\n",
       "3071   GARCIA DE ALMEIDA            3\n",
       "3918          JOSÉ ALVES            3\n",
       "3956         JOSÉ CARLOS            3\n",
       "4177        JOÃO BATISTA            3\n",
       "4241       JOÃO HENRIQUE            3\n",
       "4269         JOÃO MENDES            4\n",
       "4279          JOÃO PAULO            3\n",
       "4454     LACERDA WERNECK            3\n",
       "4588        LIMA E SILVA            3\n",
       "4635          LOPES GAMA            3\n",
       "4712         LUIZ CARLOS            3\n",
       "4884              MACEDO            4\n",
       "5249          MELO MATOS            4\n",
       "5600     NELSON CARNEIRO            3\n",
       "5686        NINA RIBEIRO            3\n",
       "5766        ODILON BRAGA            3\n",
       "5981        PAES BARRETO            3\n",
       "6003            PARANHOS            5\n",
       "6167            PEDREIRA            3\n",
       "6287        PEREIRA LIMA            3\n",
       "6324    PINHEIRO MACHADO            3\n",
       "6708               ROCHA            3\n",
       "6943    SALDANHA MARINHO            3\n",
       "7843        WILSON CUNHA            3\n",
       "7891            ZACARIAS            3"
      ]
     },
     "execution_count": 26,
     "metadata": {},
     "output_type": "execute_result"
    }
   ],
   "source": [
    "df_uf[df_uf.distinct_uf >=3 ]"
   ]
  },
  {
   "cell_type": "markdown",
   "id": "54dd1b04",
   "metadata": {},
   "source": [
    "São 45 depitados que apresentam esse comportamento, ou seja a exeção nesse caso. \n",
    "Mas vale ficar atento neles em analises futuras "
   ]
  },
  {
   "cell_type": "markdown",
   "id": "be48487b",
   "metadata": {},
   "source": [
    "# conclusoes : \n",
    "\n",
    "## perfil : \n",
    "\n",
    "são principalmente homens, entre 40 e 60 anos de idade, que representam geralmente apenas 1 estado, e que em geral tem entre 1 e 3 mandatos. \n",
    "\n",
    "## outros pontos descobertos: \n",
    "\n",
    "### os deputados vem estudando mais ! \n",
    "\n",
    "des de 2004 aé hoje temos tido um almento siguinificativo do numero de deputados com pos graduação ou mais e que vem acompanhado de uma queda no numero de deputado com só o encino superior completo. \n",
    "tambem vemos uma base constante de deputados com só o encino findamental ou encino medio completo, que tende a se manter estavel nos proximos anos. \n",
    "\n",
    "### os deputados eternos. \n",
    "\n",
    "Historicamente temos um grupo de deputados que podemos clasificar como \"deputados proficionais\" pois tem longas carreiras, durando decadas na camara dos deputados chegando a ter mais de 15 mandatos (60 anos).\n",
    "\n",
    "### A grande renovação de 2019: \n",
    "\n",
    "quando olhamos para o numero de \"deputados proficionais\" sempre temos um grupo consideravel entre 25 e 60 deputados, mas quando olhamos para a eleição de 2019 temos uma quda brusca desse grupo, o que aponta para uma renovação ou uma preferencia para o deputados com menos mandatos. \n",
    "\n",
    "### mulhers na camara. \n",
    "\n",
    "quando olhamos para a evolução do numero de deputadas, vamos um senario bem desfavoravel para elas.\n",
    "A primeira deputada a se eleger só aconteceu em 1934, a 87 anos atras, e mesmo assim o volume de mulhers na camara não passa de 86. \n",
    "esse fato constrata bastante com os dados apresentados pela pnad de 2019 (dado mais recente que temos sobre o tema) que aponta que no brasil as mulheres representam 51,8% da população nacional. seguindo essa logicca, deveriamos ter por volta de 300 mulheres na camara. \n",
    "felismente o essa representação vem subindo, principalmente nas ultimas 2 legislaturas, porem ainda existe um grande caminho para que as mulheres possam ser bem representadas na camara. \n"
   ]
  },
  {
   "cell_type": "code",
   "execution_count": null,
   "id": "ae13b158",
   "metadata": {},
   "outputs": [],
   "source": []
  }
 ],
 "metadata": {
  "kernelspec": {
   "display_name": "project_sume",
   "language": "python",
   "name": "project_sume"
  },
  "language_info": {
   "codemirror_mode": {
    "name": "ipython",
    "version": 3
   },
   "file_extension": ".py",
   "mimetype": "text/x-python",
   "name": "python",
   "nbconvert_exporter": "python",
   "pygments_lexer": "ipython3",
   "version": "3.8.6"
  }
 },
 "nbformat": 4,
 "nbformat_minor": 5
}
